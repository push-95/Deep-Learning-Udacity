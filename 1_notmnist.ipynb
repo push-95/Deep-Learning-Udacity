{
 "cells": [
  {
   "cell_type": "markdown",
   "metadata": {
    "colab_type": "text",
    "id": "5hIbr52I7Z7U"
   },
   "source": [
    "Deep Learning\n",
    "=============\n",
    "\n",
    "Assignment 1\n",
    "------------\n",
    "\n",
    "The objective of this assignment is to learn about simple data curation practices, and familiarize you with some of the data we'll be reusing later.\n",
    "\n",
    "This notebook uses the [notMNIST](http://yaroslavvb.blogspot.com/2011/09/notmnist-dataset.html) dataset to be used with python experiments. This dataset is designed to look like the classic [MNIST](http://yann.lecun.com/exdb/mnist/) dataset, while looking a little more like real data: it's a harder task, and the data is a lot less 'clean' than MNIST."
   ]
  },
  {
   "cell_type": "code",
   "execution_count": 2,
   "metadata": {
    "cellView": "both",
    "colab": {
     "autoexec": {
      "startup": false,
      "wait_interval": 0
     }
    },
    "colab_type": "code",
    "id": "apJbCsBHl-2A"
   },
   "outputs": [],
   "source": [
    "# These are all the modules we'll be using later. Make sure you can import them\n",
    "# before proceeding further.\n",
    "from __future__ import print_function\n",
    "import matplotlib.pyplot as plt\n",
    "import numpy as np\n",
    "import os\n",
    "import sys\n",
    "import tarfile\n",
    "from IPython.display import display, Image\n",
    "from scipy import ndimage\n",
    "from sklearn.linear_model import LogisticRegression\n",
    "from six.moves.urllib.request import urlretrieve\n",
    "from six.moves import cPickle as pickle\n",
    "\n",
    "# Config the matlotlib backend as plotting inline in IPython\n",
    "%matplotlib inline"
   ]
  },
  {
   "cell_type": "markdown",
   "metadata": {
    "colab_type": "text",
    "id": "jNWGtZaXn-5j"
   },
   "source": [
    "First, we'll download the dataset to our local machine. The data consists of characters rendered in a variety of fonts on a 28x28 image. The labels are limited to 'A' through 'J' (10 classes). The training set has about 500k and the testset 19000 labelled examples. Given these sizes, it should be possible to train models quickly on any machine."
   ]
  },
  {
   "cell_type": "code",
   "execution_count": 3,
   "metadata": {
    "cellView": "both",
    "colab": {
     "autoexec": {
      "startup": false,
      "wait_interval": 0
     },
     "output_extras": [
      {
       "item_id": 1
      }
     ]
    },
    "colab_type": "code",
    "executionInfo": {
     "elapsed": 186058,
     "status": "ok",
     "timestamp": 1444485672507,
     "user": {
      "color": "#1FA15D",
      "displayName": "Vincent Vanhoucke",
      "isAnonymous": false,
      "isMe": true,
      "permissionId": "05076109866853157986",
      "photoUrl": "//lh6.googleusercontent.com/-cCJa7dTDcgQ/AAAAAAAAAAI/AAAAAAAACgw/r2EZ_8oYer4/s50-c-k-no/photo.jpg",
      "sessionId": "2a0a5e044bb03b66",
      "userId": "102167687554210253930"
     },
     "user_tz": 420
    },
    "id": "EYRJ4ICW6-da",
    "outputId": "0d0f85df-155f-4a89-8e7e-ee32df36ec8d"
   },
   "outputs": [
    {
     "name": "stdout",
     "output_type": "stream",
     "text": [
      "Attempting to download: notMNIST_large.tar.gz\n",
      "0%....5%....10%....15%....20%....25%....30%....35%....40%....45%....50%....55%....60%....65%....70%....75%....80%....85%....90%....95%....100%\n",
      "Download Complete!\n",
      "Found and verified notMNIST_large.tar.gz\n",
      "Attempting to download: notMNIST_small.tar.gz\n",
      "0%....5%....10%....15%....20%....25%....30%....35%....40%....45%....50%....55%....60%....65%....70%....75%....80%....85%....90%....95%....100%\n",
      "Download Complete!\n",
      "Found and verified notMNIST_small.tar.gz\n"
     ]
    }
   ],
   "source": [
    "url = 'http://commondatastorage.googleapis.com/books1000/'\n",
    "last_percent_reported = None\n",
    "\n",
    "def download_progress_hook(count, blockSize, totalSize):\n",
    "  \"\"\"A hook to report the progress of a download. This is mostly intended for users with\n",
    "  slow internet connections. Reports every 1% change in download progress.\n",
    "  \"\"\"\n",
    "  global last_percent_reported\n",
    "  percent = int(count * blockSize * 100 / totalSize)\n",
    "\n",
    "  if last_percent_reported != percent:\n",
    "    if percent % 5 == 0:\n",
    "      sys.stdout.write(\"%s%%\" % percent)\n",
    "      sys.stdout.flush()\n",
    "    else:\n",
    "      sys.stdout.write(\".\")\n",
    "      sys.stdout.flush()\n",
    "      \n",
    "    last_percent_reported = percent\n",
    "        \n",
    "def maybe_download(filename, expected_bytes, force=False):\n",
    "  \"\"\"Download a file if not present, and make sure it's the right size.\"\"\"\n",
    "  if force or not os.path.exists(filename):\n",
    "    print('Attempting to download:', filename) \n",
    "    filename, _ = urlretrieve(url + filename, filename, reporthook=download_progress_hook)\n",
    "    print('\\nDownload Complete!')\n",
    "  statinfo = os.stat(filename)\n",
    "  if statinfo.st_size == expected_bytes:\n",
    "    print('Found and verified', filename)\n",
    "  else:\n",
    "    raise Exception(\n",
    "      'Failed to verify ' + filename + '. Can you get to it with a browser?')\n",
    "  return filename\n",
    "\n",
    "train_filename = maybe_download('notMNIST_large.tar.gz', 247336696)\n",
    "test_filename = maybe_download('notMNIST_small.tar.gz', 8458043)"
   ]
  },
  {
   "cell_type": "markdown",
   "metadata": {
    "colab_type": "text",
    "id": "cC3p0oEyF8QT"
   },
   "source": [
    "Extract the dataset from the compressed .tar.gz file.\n",
    "This should give you a set of directories, labelled A through J."
   ]
  },
  {
   "cell_type": "code",
   "execution_count": 4,
   "metadata": {
    "cellView": "both",
    "colab": {
     "autoexec": {
      "startup": false,
      "wait_interval": 0
     },
     "output_extras": [
      {
       "item_id": 1
      }
     ]
    },
    "colab_type": "code",
    "executionInfo": {
     "elapsed": 186055,
     "status": "ok",
     "timestamp": 1444485672525,
     "user": {
      "color": "#1FA15D",
      "displayName": "Vincent Vanhoucke",
      "isAnonymous": false,
      "isMe": true,
      "permissionId": "05076109866853157986",
      "photoUrl": "//lh6.googleusercontent.com/-cCJa7dTDcgQ/AAAAAAAAAAI/AAAAAAAACgw/r2EZ_8oYer4/s50-c-k-no/photo.jpg",
      "sessionId": "2a0a5e044bb03b66",
      "userId": "102167687554210253930"
     },
     "user_tz": 420
    },
    "id": "H8CBE-WZ8nmj",
    "outputId": "ef6c790c-2513-4b09-962e-27c79390c762"
   },
   "outputs": [
    {
     "name": "stdout",
     "output_type": "stream",
     "text": [
      "Extracting data for notMNIST_large. This may take a while. Please wait.\n",
      "['notMNIST_large/A', 'notMNIST_large/B', 'notMNIST_large/C', 'notMNIST_large/D', 'notMNIST_large/E', 'notMNIST_large/F', 'notMNIST_large/G', 'notMNIST_large/H', 'notMNIST_large/I', 'notMNIST_large/J']\n",
      "Extracting data for notMNIST_small. This may take a while. Please wait.\n",
      "['notMNIST_small/A', 'notMNIST_small/B', 'notMNIST_small/C', 'notMNIST_small/D', 'notMNIST_small/E', 'notMNIST_small/F', 'notMNIST_small/G', 'notMNIST_small/H', 'notMNIST_small/I', 'notMNIST_small/J']\n"
     ]
    }
   ],
   "source": [
    "num_classes = 10\n",
    "np.random.seed(133)\n",
    "\n",
    "def maybe_extract(filename, force=False):\n",
    "  root = os.path.splitext(os.path.splitext(filename)[0])[0]  # remove .tar.gz\n",
    "  if os.path.isdir(root) and not force:\n",
    "    # You may override by setting force=True.\n",
    "    print('%s already present - Skipping extraction of %s.' % (root, filename))\n",
    "  else:\n",
    "    print('Extracting data for %s. This may take a while. Please wait.' % root)\n",
    "    tar = tarfile.open(filename)\n",
    "    sys.stdout.flush()\n",
    "    tar.extractall()\n",
    "    tar.close()\n",
    "  data_folders = [\n",
    "    os.path.join(root, d) for d in sorted(os.listdir(root))\n",
    "    if os.path.isdir(os.path.join(root, d))]\n",
    "  if len(data_folders) != num_classes:\n",
    "    raise Exception(\n",
    "      'Expected %d folders, one per class. Found %d instead.' % (\n",
    "        num_classes, len(data_folders)))\n",
    "  print(data_folders)\n",
    "  return data_folders\n",
    "  \n",
    "train_folders = maybe_extract(train_filename)\n",
    "test_folders = maybe_extract(test_filename)"
   ]
  },
  {
   "cell_type": "markdown",
   "metadata": {
    "colab_type": "text",
    "id": "4riXK3IoHgx6"
   },
   "source": [
    "---\n",
    "Problem 1\n",
    "---------\n",
    "\n",
    "Let's take a peek at some of the data to make sure it looks sensible. Each exemplar should be an image of a character A through J rendered in a different font. Display a sample of the images that we just downloaded. Hint: you can use the package IPython.display.\n",
    "\n",
    "---"
   ]
  },
  {
   "cell_type": "code",
   "execution_count": 5,
   "metadata": {},
   "outputs": [
    {
     "name": "stdout",
     "output_type": "stream",
     "text": [
      "* in directory notMNIST_large/A:\n",
      "\n",
      "filename: QWxmcmVkbydzIERhbmNlLnR0Zg==.png\n"
     ]
    },
    {
     "data": {
      "image/png": "[encoded data removed]",
      "text/plain": [
       "<IPython.core.display.Image object>"
      ]
     },
     "metadata": {},
     "output_type": "display_data"
    },
    {
     "name": "stdout",
     "output_type": "stream",
     "text": [
      "filename: RmlsbG1vcmUub3Rm.png\n"
     ]
    },
    {
     "data": {
      "image/png": "[encoded data removed]",
      "text/plain": [
       "<IPython.core.display.Image object>"
      ]
     },
     "metadata": {},
     "output_type": "display_data"
    },
    {
     "name": "stdout",
     "output_type": "stream",
     "text": [
      "filename: Q292aW5ndG9uIENvbmQgSXRhbGljLnR0Zg==.png\n"
     ]
    },
    {
     "data": {
      "image/png": "[encoded data removed]",
      "text/plain": [
       "<IPython.core.display.Image object>"
      ]
     },
     "metadata": {},
     "output_type": "display_data"
    },
    {
     "name": "stdout",
     "output_type": "stream",
     "text": [
      "filename: T2NlYW5TYW5zU3RkLVNlbWlib2xkLm90Zg==.png\n"
     ]
    },
    {
     "data": {
      "image/png": "[encoded data removed]",
      "text/plain": [
       "<IPython.core.display.Image object>"
      ]
     },
     "metadata": {},
     "output_type": "display_data"
    },
    {
     "name": "stdout",
     "output_type": "stream",
     "text": [
      "filename: RXBpa3VyRXhwZXJ0QlEtTGlnaHQub3Rm.png\n"
     ]
    },
    {
     "data": {
      "image/png": "[encoded data removed]",
      "text/plain": [
       "<IPython.core.display.Image object>"
      ]
     },
     "metadata": {},
     "output_type": "display_data"
    },
    {
     "name": "stdout",
     "output_type": "stream",
     "text": [
      "filename: QWFiY2VkIEl0YWxpYy50dGY=.png\n"
     ]
    },
    {
     "data": {
      "image/png": "[encoded data removed]",
      "text/plain": [
       "<IPython.core.display.Image object>"
      ]
     },
     "metadata": {},
     "output_type": "display_data"
    },
    {
     "name": "stdout",
     "output_type": "stream",
     "text": [
      "* in directory notMNIST_large/B:\n",
      "\n",
      "filename: QWxmcmVkbydzIERhbmNlLnR0Zg==.png\n"
     ]
    },
    {
     "data": {
      "image/png": "[encoded data removed]",
      "text/plain": [
       "<IPython.core.display.Image object>"
      ]
     },
     "metadata": {},
     "output_type": "display_data"
    },
    {
     "name": "stdout",
     "output_type": "stream",
     "text": [
      "filename: RmlsbG1vcmUub3Rm.png\n"
     ]
    },
    {
     "data": {
      "image/png": "[encoded data removed]",
      "text/plain": [
       "<IPython.core.display.Image object>"
      ]
     },
     "metadata": {},
     "output_type": "display_data"
    },
    {
     "name": "stdout",
     "output_type": "stream",
     "text": [
      "filename: Q292aW5ndG9uIENvbmQgSXRhbGljLnR0Zg==.png\n"
     ]
    },
    {
     "data": {
      "image/png": "[encoded data removed]",
      "text/plain": [
       "<IPython.core.display.Image object>"
      ]
     },
     "metadata": {},
     "output_type": "display_data"
    },
    {
     "name": "stdout",
     "output_type": "stream",
     "text": [
      "filename: T2NlYW5TYW5zU3RkLVNlbWlib2xkLm90Zg==.png\n"
     ]
    },
    {
     "data": {
      "image/png": "[encoded data removed]",
      "text/plain": [
       "<IPython.core.display.Image object>"
      ]
     },
     "metadata": {},
     "output_type": "display_data"
    },
    {
     "name": "stdout",
     "output_type": "stream",
     "text": [
      "filename: RXBpa3VyRXhwZXJ0QlEtTGlnaHQub3Rm.png\n"
     ]
    },
    {
     "data": {
      "image/png": "[encoded data removed]",
      "text/plain": [
       "<IPython.core.display.Image object>"
      ]
     },
     "metadata": {},
     "output_type": "display_data"
    },
    {
     "name": "stdout",
     "output_type": "stream",
     "text": [
      "filename: QWFiY2VkIEl0YWxpYy50dGY=.png\n"
     ]
    },
    {
     "data": {
      "image/png": "[encoded data removed]",
      "text/plain": [
       "<IPython.core.display.Image object>"
      ]
     },
     "metadata": {},
     "output_type": "display_data"
    },
    {
     "name": "stdout",
     "output_type": "stream",
     "text": [
      "* in directory notMNIST_large/C:\n",
      "\n",
      "filename: QWxmcmVkbydzIERhbmNlLnR0Zg==.png\n"
     ]
    },
    {
     "data": {
      "image/png": "[encoded data removed]",
      "text/plain": [
       "<IPython.core.display.Image object>"
      ]
     },
     "metadata": {},
     "output_type": "display_data"
    },
    {
     "name": "stdout",
     "output_type": "stream",
     "text": [
      "filename: RmlsbG1vcmUub3Rm.png\n"
     ]
    },
    {
     "data": {
      "image/png": "[encoded data removed]",
      "text/plain": [
       "<IPython.core.display.Image object>"
      ]
     },
     "metadata": {},
     "output_type": "display_data"
    },
    {
     "name": "stdout",
     "output_type": "stream",
     "text": [
      "filename: Q292aW5ndG9uIENvbmQgSXRhbGljLnR0Zg==.png\n"
     ]
    },
    {
     "data": {
      "image/png": "[encoded data removed]",
      "text/plain": [
       "<IPython.core.display.Image object>"
      ]
     },
     "metadata": {},
     "output_type": "display_data"
    },
    {
     "name": "stdout",
     "output_type": "stream",
     "text": [
      "filename: T2NlYW5TYW5zU3RkLVNlbWlib2xkLm90Zg==.png\n"
     ]
    },
    {
     "data": {
      "image/png": "[encoded data removed]",
      "text/plain": [
       "<IPython.core.display.Image object>"
      ]
     },
     "metadata": {},
     "output_type": "display_data"
    },
    {
     "name": "stdout",
     "output_type": "stream",
     "text": [
      "filename: RXBpa3VyRXhwZXJ0QlEtTGlnaHQub3Rm.png\n"
     ]
    },
    {
     "data": {
      "image/png": "[encoded data removed]",
      "text/plain": [
       "<IPython.core.display.Image object>"
      ]
     },
     "metadata": {},
     "output_type": "display_data"
    },
    {
     "name": "stdout",
     "output_type": "stream",
     "text": [
      "filename: QWFiY2VkIEl0YWxpYy50dGY=.png\n"
     ]
    },
    {
     "data": {
      "image/png": "[encoded data removed]",
      "text/plain": [
       "<IPython.core.display.Image object>"
      ]
     },
     "metadata": {},
     "output_type": "display_data"
    },
    {
     "name": "stdout",
     "output_type": "stream",
     "text": [
      "* in directory notMNIST_large/D:\n",
      "\n",
      "filename: QWxmcmVkbydzIERhbmNlLnR0Zg==.png\n"
     ]
    },
    {
     "data": {
      "image/png": "[encoded data removed]",
      "text/plain": [
       "<IPython.core.display.Image object>"
      ]
     },
     "metadata": {},
     "output_type": "display_data"
    },
    {
     "name": "stdout",
     "output_type": "stream",
     "text": [
      "filename: RmlsbG1vcmUub3Rm.png\n"
     ]
    },
    {
     "data": {
      "image/png": "[encoded data removed]",
      "text/plain": [
       "<IPython.core.display.Image object>"
      ]
     },
     "metadata": {},
     "output_type": "display_data"
    },
    {
     "name": "stdout",
     "output_type": "stream",
     "text": [
      "filename: Q292aW5ndG9uIENvbmQgSXRhbGljLnR0Zg==.png\n"
     ]
    },
    {
     "data": {
      "image/png": "[encoded data removed]",
      "text/plain": [
       "<IPython.core.display.Image object>"
      ]
     },
     "metadata": {},
     "output_type": "display_data"
    },
    {
     "name": "stdout",
     "output_type": "stream",
     "text": [
      "filename: T2NlYW5TYW5zU3RkLVNlbWlib2xkLm90Zg==.png\n"
     ]
    },
    {
     "data": {
      "image/png": "[encoded data removed]",
      "text/plain": [
       "<IPython.core.display.Image object>"
      ]
     },
     "metadata": {},
     "output_type": "display_data"
    },
    {
     "name": "stdout",
     "output_type": "stream",
     "text": [
      "filename: RXBpa3VyRXhwZXJ0QlEtTGlnaHQub3Rm.png\n"
     ]
    },
    {
     "data": {
      "image/png": "[encoded data removed]",
      "text/plain": [
       "<IPython.core.display.Image object>"
      ]
     },
     "metadata": {},
     "output_type": "display_data"
    },
    {
     "name": "stdout",
     "output_type": "stream",
     "text": [
      "filename: QWFiY2VkIEl0YWxpYy50dGY=.png\n"
     ]
    },
    {
     "data": {
      "image/png": "[encoded data removed]",
      "text/plain": [
       "<IPython.core.display.Image object>"
      ]
     },
     "metadata": {},
     "output_type": "display_data"
    },
    {
     "name": "stdout",
     "output_type": "stream",
     "text": [
      "* in directory notMNIST_large/E:\n",
      "\n",
      "filename: QWxmcmVkbydzIERhbmNlLnR0Zg==.png\n"
     ]
    },
    {
     "data": {
      "image/png": "[encoded data removed]",
      "text/plain": [
       "<IPython.core.display.Image object>"
      ]
     },
     "metadata": {},
     "output_type": "display_data"
    },
    {
     "name": "stdout",
     "output_type": "stream",
     "text": [
      "filename: RmlsbG1vcmUub3Rm.png\n"
     ]
    },
    {
     "data": {
      "image/png": "[encoded data removed]",
      "text/plain": [
       "<IPython.core.display.Image object>"
      ]
     },
     "metadata": {},
     "output_type": "display_data"
    },
    {
     "name": "stdout",
     "output_type": "stream",
     "text": [
      "filename: Q292aW5ndG9uIENvbmQgSXRhbGljLnR0Zg==.png\n"
     ]
    },
    {
     "data": {
      "image/png": "[encoded data removed]",
      "text/plain": [
       "<IPython.core.display.Image object>"
      ]
     },
     "metadata": {},
     "output_type": "display_data"
    },
    {
     "name": "stdout",
     "output_type": "stream",
     "text": [
      "filename: T2NlYW5TYW5zU3RkLVNlbWlib2xkLm90Zg==.png\n"
     ]
    },
    {
     "data": {
      "image/png": "[encoded data removed]",
      "text/plain": [
       "<IPython.core.display.Image object>"
      ]
     },
     "metadata": {},
     "output_type": "display_data"
    },
    {
     "name": "stdout",
     "output_type": "stream",
     "text": [
      "filename: RXBpa3VyRXhwZXJ0QlEtTGlnaHQub3Rm.png\n"
     ]
    },
    {
     "data": {
      "image/png": "[encoded data removed]",
      "text/plain": [
       "<IPython.core.display.Image object>"
      ]
     },
     "metadata": {},
     "output_type": "display_data"
    },
    {
     "name": "stdout",
     "output_type": "stream",
     "text": [
      "filename: QWFiY2VkIEl0YWxpYy50dGY=.png\n"
     ]
    },
    {
     "data": {
      "image/png": "[encoded data removed]",
      "text/plain": [
       "<IPython.core.display.Image object>"
      ]
     },
     "metadata": {},
     "output_type": "display_data"
    },
    {
     "name": "stdout",
     "output_type": "stream",
     "text": [
      "* in directory notMNIST_large/F:\n",
      "\n",
      "filename: QWxmcmVkbydzIERhbmNlLnR0Zg==.png\n"
     ]
    },
    {
     "data": {
      "image/png": "[encoded data removed]",
      "text/plain": [
       "<IPython.core.display.Image object>"
      ]
     },
     "metadata": {},
     "output_type": "display_data"
    },
    {
     "name": "stdout",
     "output_type": "stream",
     "text": [
      "filename: RmlsbG1vcmUub3Rm.png\n"
     ]
    },
    {
     "data": {
      "image/png": "[encoded data removed]",
      "text/plain": [
       "<IPython.core.display.Image object>"
      ]
     },
     "metadata": {},
     "output_type": "display_data"
    },
    {
     "name": "stdout",
     "output_type": "stream",
     "text": [
      "filename: Q292aW5ndG9uIENvbmQgSXRhbGljLnR0Zg==.png\n"
     ]
    },
    {
     "data": {
      "image/png": "[encoded data removed]",
      "text/plain": [
       "<IPython.core.display.Image object>"
      ]
     },
     "metadata": {},
     "output_type": "display_data"
    },
    {
     "name": "stdout",
     "output_type": "stream",
     "text": [
      "filename: T2NlYW5TYW5zU3RkLVNlbWlib2xkLm90Zg==.png\n"
     ]
    },
    {
     "data": {
      "image/png": "[encoded data removed]",
      "text/plain": [
       "<IPython.core.display.Image object>"
      ]
     },
     "metadata": {},
     "output_type": "display_data"
    },
    {
     "name": "stdout",
     "output_type": "stream",
     "text": [
      "filename: RXBpa3VyRXhwZXJ0QlEtTGlnaHQub3Rm.png\n"
     ]
    },
    {
     "data": {
      "image/png": "[encoded data removed]",
      "text/plain": [
       "<IPython.core.display.Image object>"
      ]
     },
     "metadata": {},
     "output_type": "display_data"
    },
    {
     "name": "stdout",
     "output_type": "stream",
     "text": [
      "filename: QWFiY2VkIEl0YWxpYy50dGY=.png\n"
     ]
    },
    {
     "data": {
      "image/png": "[encoded data removed]",
      "text/plain": [
       "<IPython.core.display.Image object>"
      ]
     },
     "metadata": {},
     "output_type": "display_data"
    },
    {
     "name": "stdout",
     "output_type": "stream",
     "text": [
      "* in directory notMNIST_large/G:\n",
      "\n",
      "filename: QWxmcmVkbydzIERhbmNlLnR0Zg==.png\n"
     ]
    },
    {
     "data": {
      "image/png": "[encoded data removed]",
      "text/plain": [
       "<IPython.core.display.Image object>"
      ]
     },
     "metadata": {},
     "output_type": "display_data"
    },
    {
     "name": "stdout",
     "output_type": "stream",
     "text": [
      "filename: RmlsbG1vcmUub3Rm.png\n"
     ]
    },
    {
     "data": {
      "image/png": "[encoded data removed]",
      "text/plain": [
       "<IPython.core.display.Image object>"
      ]
     },
     "metadata": {},
     "output_type": "display_data"
    },
    {
     "name": "stdout",
     "output_type": "stream",
     "text": [
      "filename: Q292aW5ndG9uIENvbmQgSXRhbGljLnR0Zg==.png\n"
     ]
    },
    {
     "data": {
      "image/png": "[encoded data removed]",
      "text/plain": [
       "<IPython.core.display.Image object>"
      ]
     },
     "metadata": {},
     "output_type": "display_data"
    },
    {
     "name": "stdout",
     "output_type": "stream",
     "text": [
      "filename: T2NlYW5TYW5zU3RkLVNlbWlib2xkLm90Zg==.png\n"
     ]
    },
    {
     "data": {
      "image/png": "[encoded data removed]",
      "text/plain": [
       "<IPython.core.display.Image object>"
      ]
     },
     "metadata": {},
     "output_type": "display_data"
    },
    {
     "name": "stdout",
     "output_type": "stream",
     "text": [
      "filename: RXBpa3VyRXhwZXJ0QlEtTGlnaHQub3Rm.png\n"
     ]
    },
    {
     "data": {
      "image/png": "[encoded data removed]",
      "text/plain": [
       "<IPython.core.display.Image object>"
      ]
     },
     "metadata": {},
     "output_type": "display_data"
    },
    {
     "name": "stdout",
     "output_type": "stream",
     "text": [
      "filename: QWFiY2VkIEl0YWxpYy50dGY=.png\n"
     ]
    },
    {
     "data": {
      "image/png": "[encoded data removed]",
      "text/plain": [
       "<IPython.core.display.Image object>"
      ]
     },
     "metadata": {},
     "output_type": "display_data"
    },
    {
     "name": "stdout",
     "output_type": "stream",
     "text": [
      "* in directory notMNIST_large/H:\n",
      "\n",
      "filename: QWxmcmVkbydzIERhbmNlLnR0Zg==.png\n"
     ]
    },
    {
     "data": {
      "image/png": "[encoded data removed]",
      "text/plain": [
       "<IPython.core.display.Image object>"
      ]
     },
     "metadata": {},
     "output_type": "display_data"
    },
    {
     "name": "stdout",
     "output_type": "stream",
     "text": [
      "filename: RmlsbG1vcmUub3Rm.png\n"
     ]
    },
    {
     "data": {
      "image/png": "[encoded data removed]",
      "text/plain": [
       "<IPython.core.display.Image object>"
      ]
     },
     "metadata": {},
     "output_type": "display_data"
    },
    {
     "name": "stdout",
     "output_type": "stream",
     "text": [
      "filename: Q292aW5ndG9uIENvbmQgSXRhbGljLnR0Zg==.png\n"
     ]
    },
    {
     "data": {
      "image/png": "[encoded data removed]",
      "text/plain": [
       "<IPython.core.display.Image object>"
      ]
     },
     "metadata": {},
     "output_type": "display_data"
    },
    {
     "name": "stdout",
     "output_type": "stream",
     "text": [
      "filename: T2NlYW5TYW5zU3RkLVNlbWlib2xkLm90Zg==.png\n"
     ]
    },
    {
     "data": {
      "image/png": "[encoded data removed]",
      "text/plain": [
       "<IPython.core.display.Image object>"
      ]
     },
     "metadata": {},
     "output_type": "display_data"
    },
    {
     "name": "stdout",
     "output_type": "stream",
     "text": [
      "filename: RXBpa3VyRXhwZXJ0QlEtTGlnaHQub3Rm.png\n"
     ]
    },
    {
     "data": {
      "image/png": "[encoded data removed]",
      "text/plain": [
       "<IPython.core.display.Image object>"
      ]
     },
     "metadata": {},
     "output_type": "display_data"
    },
    {
     "name": "stdout",
     "output_type": "stream",
     "text": [
      "filename: QWFiY2VkIEl0YWxpYy50dGY=.png\n"
     ]
    },
    {
     "data": {
      "image/png": "[encoded data removed]",
      "text/plain": [
       "<IPython.core.display.Image object>"
      ]
     },
     "metadata": {},
     "output_type": "display_data"
    },
    {
     "name": "stdout",
     "output_type": "stream",
     "text": [
      "* in directory notMNIST_large/I:\n",
      "\n",
      "filename: QWxmcmVkbydzIERhbmNlLnR0Zg==.png\n"
     ]
    },
    {
     "data": {
      "image/png": "[encoded data removed]",
      "text/plain": [
       "<IPython.core.display.Image object>"
      ]
     },
     "metadata": {},
     "output_type": "display_data"
    },
    {
     "name": "stdout",
     "output_type": "stream",
     "text": [
      "filename: RmlsbG1vcmUub3Rm.png\n"
     ]
    },
    {
     "data": {
      "image/png": "[encoded data removed]",
      "text/plain": [
       "<IPython.core.display.Image object>"
      ]
     },
     "metadata": {},
     "output_type": "display_data"
    },
    {
     "name": "stdout",
     "output_type": "stream",
     "text": [
      "filename: Q292aW5ndG9uIENvbmQgSXRhbGljLnR0Zg==.png\n"
     ]
    },
    {
     "data": {
      "image/png": "[encoded data removed]",
      "text/plain": [
       "<IPython.core.display.Image object>"
      ]
     },
     "metadata": {},
     "output_type": "display_data"
    },
    {
     "name": "stdout",
     "output_type": "stream",
     "text": [
      "filename: T2NlYW5TYW5zU3RkLVNlbWlib2xkLm90Zg==.png\n"
     ]
    },
    {
     "data": {
      "image/png": "[encoded data removed]",
      "text/plain": [
       "<IPython.core.display.Image object>"
      ]
     },
     "metadata": {},
     "output_type": "display_data"
    },
    {
     "name": "stdout",
     "output_type": "stream",
     "text": [
      "filename: RXBpa3VyRXhwZXJ0QlEtTGlnaHQub3Rm.png\n"
     ]
    },
    {
     "data": {
      "image/png": "[encoded data removed]",
      "text/plain": [
       "<IPython.core.display.Image object>"
      ]
     },
     "metadata": {},
     "output_type": "display_data"
    },
    {
     "name": "stdout",
     "output_type": "stream",
     "text": [
      "filename: QWFiY2VkIEl0YWxpYy50dGY=.png\n"
     ]
    },
    {
     "data": {
      "image/png": "[encoded data removed]",
      "text/plain": [
       "<IPython.core.display.Image object>"
      ]
     },
     "metadata": {},
     "output_type": "display_data"
    },
    {
     "name": "stdout",
     "output_type": "stream",
     "text": [
      "* in directory notMNIST_large/J:\n",
      "\n",
      "filename: QWxmcmVkbydzIERhbmNlLnR0Zg==.png\n"
     ]
    },
    {
     "data": {
      "image/png": "[encoded data removed]",
      "text/plain": [
       "<IPython.core.display.Image object>"
      ]
     },
     "metadata": {},
     "output_type": "display_data"
    },
    {
     "name": "stdout",
     "output_type": "stream",
     "text": [
      "filename: RmlsbG1vcmUub3Rm.png\n"
     ]
    },
    {
     "data": {
      "image/png": "[encoded data removed]",
      "text/plain": [
       "<IPython.core.display.Image object>"
      ]
     },
     "metadata": {},
     "output_type": "display_data"
    },
    {
     "name": "stdout",
     "output_type": "stream",
     "text": [
      "filename: Q292aW5ndG9uIENvbmQgSXRhbGljLnR0Zg==.png\n"
     ]
    },
    {
     "data": {
      "image/png": "[encoded data removed]",
      "text/plain": [
       "<IPython.core.display.Image object>"
      ]
     },
     "metadata": {},
     "output_type": "display_data"
    },
    {
     "name": "stdout",
     "output_type": "stream",
     "text": [
      "filename: T2NlYW5TYW5zU3RkLVNlbWlib2xkLm90Zg==.png\n"
     ]
    },
    {
     "data": {
      "image/png": "[encoded data removed]",
      "text/plain": [
       "<IPython.core.display.Image object>"
      ]
     },
     "metadata": {},
     "output_type": "display_data"
    },
    {
     "name": "stdout",
     "output_type": "stream",
     "text": [
      "filename: RXBpa3VyRXhwZXJ0QlEtTGlnaHQub3Rm.png\n"
     ]
    },
    {
     "data": {
      "image/png": "[encoded data removed]",
      "text/plain": [
       "<IPython.core.display.Image object>"
      ]
     },
     "metadata": {},
     "output_type": "display_data"
    },
    {
     "name": "stdout",
     "output_type": "stream",
     "text": [
      "filename: QWFiY2VkIEl0YWxpYy50dGY=.png\n"
     ]
    },
    {
     "data": {
      "image/png": "[encoded data removed]",
      "text/plain": [
       "<IPython.core.display.Image object>"
      ]
     },
     "metadata": {},
     "output_type": "display_data"
    }
   ],
   "source": [
    "for dir_ in train_folders:\n",
    "    print('* in directory ' + dir_ + ':\\n')\n",
    "    for idx, fname in enumerate(os.listdir(dir_)):\n",
    "        if idx % 10000 == 0 and fname.endswith('.png'):\n",
    "            print('filename: ' + fname)\n",
    "            display(Image(os.path.join(dir_, fname)))"
   ]
  },
  {
   "cell_type": "markdown",
   "metadata": {
    "colab_type": "text",
    "id": "PBdkjESPK8tw"
   },
   "source": [
    "Now let's load the data in a more manageable format. Since, depending on your computer setup you might not be able to fit it all in memory, we'll load each class into a separate dataset, store them on disk and curate them independently. Later we'll merge them into a single dataset of manageable size.\n",
    "\n",
    "We'll convert the entire dataset into a 3D array (image index, x, y) of floating point values, normalized to have approximately zero mean and standard deviation ~0.5 to make training easier down the road. \n",
    "\n",
    "A few images might not be readable, we'll just skip them."
   ]
  },
  {
   "cell_type": "code",
   "execution_count": 6,
   "metadata": {
    "cellView": "both",
    "colab": {
     "autoexec": {
      "startup": false,
      "wait_interval": 0
     },
     "output_extras": [
      {
       "item_id": 30
      }
     ]
    },
    "colab_type": "code",
    "executionInfo": {
     "elapsed": 399874,
     "status": "ok",
     "timestamp": 1444485886378,
     "user": {
      "color": "#1FA15D",
      "displayName": "Vincent Vanhoucke",
      "isAnonymous": false,
      "isMe": true,
      "permissionId": "05076109866853157986",
      "photoUrl": "//lh6.googleusercontent.com/-cCJa7dTDcgQ/AAAAAAAAAAI/AAAAAAAACgw/r2EZ_8oYer4/s50-c-k-no/photo.jpg",
      "sessionId": "2a0a5e044bb03b66",
      "userId": "102167687554210253930"
     },
     "user_tz": 420
    },
    "id": "h7q0XhG3MJdf",
    "outputId": "92c391bb-86ff-431d-9ada-315568a19e59"
   },
   "outputs": [
    {
     "name": "stdout",
     "output_type": "stream",
     "text": [
      "Pickling notMNIST_large/A.pickle.\n",
      "notMNIST_large/A\n",
      "Could not read: notMNIST_large/A/Um9tYW5hIEJvbGQucGZi.png : cannot identify image file 'notMNIST_large/A/Um9tYW5hIEJvbGQucGZi.png' - it's ok, skipping.\n",
      "Could not read: notMNIST_large/A/RnJlaWdodERpc3BCb29rSXRhbGljLnR0Zg==.png : cannot identify image file 'notMNIST_large/A/RnJlaWdodERpc3BCb29rSXRhbGljLnR0Zg==.png' - it's ok, skipping.\n",
      "Could not read: notMNIST_large/A/SG90IE11c3RhcmQgQlROIFBvc3Rlci50dGY=.png : cannot identify image file 'notMNIST_large/A/SG90IE11c3RhcmQgQlROIFBvc3Rlci50dGY=.png' - it's ok, skipping.\n",
      "Full dataset tensor: (52909, 28, 28)\n",
      "Mean: -0.128251\n",
      "Standard deviation: 0.443121\n",
      "Pickling notMNIST_large/B.pickle.\n",
      "notMNIST_large/B\n",
      "Could not read: notMNIST_large/B/TmlraXNFRi1TZW1pQm9sZEl0YWxpYy5vdGY=.png : cannot identify image file 'notMNIST_large/B/TmlraXNFRi1TZW1pQm9sZEl0YWxpYy5vdGY=.png' - it's ok, skipping.\n",
      "Full dataset tensor: (52911, 28, 28)\n",
      "Mean: -0.00756305\n",
      "Standard deviation: 0.454492\n",
      "Pickling notMNIST_large/C.pickle.\n",
      "notMNIST_large/C\n",
      "Full dataset tensor: (52912, 28, 28)\n",
      "Mean: -0.142258\n",
      "Standard deviation: 0.439806\n",
      "Pickling notMNIST_large/D.pickle.\n",
      "notMNIST_large/D\n",
      "Could not read: notMNIST_large/D/VHJhbnNpdCBCb2xkLnR0Zg==.png : cannot identify image file 'notMNIST_large/D/VHJhbnNpdCBCb2xkLnR0Zg==.png' - it's ok, skipping.\n",
      "Full dataset tensor: (52911, 28, 28)\n",
      "Mean: -0.0573677\n",
      "Standard deviation: 0.455647\n",
      "Pickling notMNIST_large/E.pickle.\n",
      "notMNIST_large/E\n",
      "Full dataset tensor: (52912, 28, 28)\n",
      "Mean: -0.069899\n",
      "Standard deviation: 0.452942\n",
      "Pickling notMNIST_large/F.pickle.\n",
      "notMNIST_large/F\n",
      "Full dataset tensor: (52912, 28, 28)\n",
      "Mean: -0.125583\n",
      "Standard deviation: 0.44709\n",
      "Pickling notMNIST_large/G.pickle.\n",
      "notMNIST_large/G\n",
      "Full dataset tensor: (52912, 28, 28)\n",
      "Mean: -0.0945817\n",
      "Standard deviation: 0.44624\n",
      "Pickling notMNIST_large/H.pickle.\n",
      "notMNIST_large/H\n",
      "Full dataset tensor: (52912, 28, 28)\n",
      "Mean: -0.0685221\n",
      "Standard deviation: 0.454232\n",
      "Pickling notMNIST_large/I.pickle.\n",
      "notMNIST_large/I\n",
      "Full dataset tensor: (52912, 28, 28)\n",
      "Mean: 0.0307862\n",
      "Standard deviation: 0.468899\n",
      "Pickling notMNIST_large/J.pickle.\n",
      "notMNIST_large/J\n",
      "Full dataset tensor: (52911, 28, 28)\n",
      "Mean: -0.153358\n",
      "Standard deviation: 0.443656\n",
      "Pickling notMNIST_small/A.pickle.\n",
      "notMNIST_small/A\n",
      "Could not read: notMNIST_small/A/RGVtb2NyYXRpY2FCb2xkT2xkc3R5bGUgQm9sZC50dGY=.png : cannot identify image file 'notMNIST_small/A/RGVtb2NyYXRpY2FCb2xkT2xkc3R5bGUgQm9sZC50dGY=.png' - it's ok, skipping.\n",
      "Full dataset tensor: (1872, 28, 28)\n",
      "Mean: -0.132626\n",
      "Standard deviation: 0.445128\n",
      "Pickling notMNIST_small/B.pickle.\n",
      "notMNIST_small/B\n",
      "Full dataset tensor: (1873, 28, 28)\n",
      "Mean: 0.00535608\n",
      "Standard deviation: 0.457115\n",
      "Pickling notMNIST_small/C.pickle.\n",
      "notMNIST_small/C\n",
      "Full dataset tensor: (1873, 28, 28)\n",
      "Mean: -0.141521\n",
      "Standard deviation: 0.44269\n",
      "Pickling notMNIST_small/D.pickle.\n",
      "notMNIST_small/D\n",
      "Full dataset tensor: (1873, 28, 28)\n",
      "Mean: -0.0492167\n",
      "Standard deviation: 0.459759\n",
      "Pickling notMNIST_small/E.pickle.\n",
      "notMNIST_small/E\n",
      "Full dataset tensor: (1873, 28, 28)\n",
      "Mean: -0.0599148\n",
      "Standard deviation: 0.45735\n",
      "Pickling notMNIST_small/F.pickle.\n",
      "notMNIST_small/F\n",
      "Could not read: notMNIST_small/F/Q3Jvc3NvdmVyIEJvbGRPYmxpcXVlLnR0Zg==.png : cannot identify image file 'notMNIST_small/F/Q3Jvc3NvdmVyIEJvbGRPYmxpcXVlLnR0Zg==.png' - it's ok, skipping.\n",
      "Full dataset tensor: (1872, 28, 28)\n",
      "Mean: -0.118185\n",
      "Standard deviation: 0.452279\n",
      "Pickling notMNIST_small/G.pickle.\n",
      "notMNIST_small/G\n",
      "Full dataset tensor: (1872, 28, 28)\n",
      "Mean: -0.0925503\n",
      "Standard deviation: 0.449006\n",
      "Pickling notMNIST_small/H.pickle.\n",
      "notMNIST_small/H\n",
      "Full dataset tensor: (1872, 28, 28)\n",
      "Mean: -0.0586892\n",
      "Standard deviation: 0.458759\n",
      "Pickling notMNIST_small/I.pickle.\n",
      "notMNIST_small/I\n",
      "Full dataset tensor: (1872, 28, 28)\n",
      "Mean: 0.0526451\n",
      "Standard deviation: 0.471894\n",
      "Pickling notMNIST_small/J.pickle.\n",
      "notMNIST_small/J\n",
      "Full dataset tensor: (1872, 28, 28)\n",
      "Mean: -0.151689\n",
      "Standard deviation: 0.448014\n"
     ]
    }
   ],
   "source": [
    "image_size = 28  # Pixel width and height.\n",
    "pixel_depth = 255.0  # Number of levels per pixel.\n",
    "\n",
    "def load_letter(folder, min_num_images):\n",
    "  \"\"\"Load the data for a single letter label.\"\"\"\n",
    "  image_files = os.listdir(folder)\n",
    "  dataset = np.ndarray(shape=(len(image_files), image_size, image_size),\n",
    "                         dtype=np.float32)\n",
    "  print(folder)\n",
    "  num_images = 0\n",
    "  for image in image_files:\n",
    "    image_file = os.path.join(folder, image)\n",
    "    try:\n",
    "      image_data = (ndimage.imread(image_file).astype(float) - \n",
    "                    pixel_depth / 2) / pixel_depth\n",
    "      if image_data.shape != (image_size, image_size):\n",
    "        raise Exception('Unexpected image shape: %s' % str(image_data.shape))\n",
    "      dataset[num_images, :, :] = image_data\n",
    "      num_images = num_images + 1\n",
    "    except IOError as e:\n",
    "      print('Could not read:', image_file, ':', e, '- it\\'s ok, skipping.')\n",
    "    \n",
    "  dataset = dataset[0:num_images, :, :]\n",
    "  if num_images < min_num_images:\n",
    "    raise Exception('Many fewer images than expected: %d < %d' %\n",
    "                    (num_images, min_num_images))\n",
    "    \n",
    "  print('Full dataset tensor:', dataset.shape)\n",
    "  print('Mean:', np.mean(dataset))\n",
    "  print('Standard deviation:', np.std(dataset))\n",
    "  return dataset\n",
    "        \n",
    "def maybe_pickle(data_folders, min_num_images_per_class, force=False):\n",
    "  dataset_names = []\n",
    "  for folder in data_folders:\n",
    "    set_filename = folder + '.pickle'\n",
    "    dataset_names.append(set_filename)\n",
    "    if os.path.exists(set_filename) and not force:\n",
    "      # You may override by setting force=True.\n",
    "      print('%s already present - Skipping pickling.' % set_filename)\n",
    "    else:\n",
    "      print('Pickling %s.' % set_filename)\n",
    "      dataset = load_letter(folder, min_num_images_per_class)\n",
    "      try:\n",
    "        with open(set_filename, 'wb') as f:\n",
    "          pickle.dump(dataset, f, pickle.HIGHEST_PROTOCOL)\n",
    "      except Exception as e:\n",
    "        print('Unable to save data to', set_filename, ':', e)\n",
    "  \n",
    "  return dataset_names\n",
    "\n",
    "train_datasets = maybe_pickle(train_folders, 45000, False)\n",
    "test_datasets = maybe_pickle(test_folders, 1800, False)"
   ]
  },
  {
   "cell_type": "markdown",
   "metadata": {
    "colab_type": "text",
    "id": "vUdbskYE2d87"
   },
   "source": [
    "---\n",
    "Problem 2\n",
    "---------\n",
    "\n",
    "Let's verify that the data still looks good. Displaying a sample of the labels and images from the ndarray. Hint: you can use matplotlib.pyplot.\n",
    "\n",
    "---"
   ]
  },
  {
   "cell_type": "code",
   "execution_count": 7,
   "metadata": {},
   "outputs": [
    {
     "name": "stdout",
     "output_type": "stream",
     "text": [
      "notMNIST_large/A.pickle\n"
     ]
    },
    {
     "ename": "TypeError",
     "evalue": "Invalid dimensions for image data",
     "output_type": "error",
     "traceback": [
      "\u001b[0;31m---------------------------------------------------------------------------\u001b[0m",
      "\u001b[0;31mTypeError\u001b[0m                                 Traceback (most recent call last)",
      "\u001b[0;32m<ipython-input-7-2750a08132bd>\u001b[0m in \u001b[0;36m<module>\u001b[0;34m()\u001b[0m\n\u001b[1;32m      2\u001b[0m     \u001b[0mdataset\u001b[0m \u001b[0;34m=\u001b[0m \u001b[0mpickle\u001b[0m\u001b[0;34m.\u001b[0m\u001b[0mload\u001b[0m\u001b[0;34m(\u001b[0m\u001b[0mopen\u001b[0m\u001b[0;34m(\u001b[0m\u001b[0mdataset_pickle\u001b[0m\u001b[0;34m)\u001b[0m\u001b[0;34m)\u001b[0m\u001b[0;34m\u001b[0m\u001b[0m\n\u001b[1;32m      3\u001b[0m     \u001b[0;32mprint\u001b[0m\u001b[0;34m(\u001b[0m\u001b[0mdataset_pickle\u001b[0m\u001b[0;34m)\u001b[0m\u001b[0;34m\u001b[0m\u001b[0m\n\u001b[0;32m----> 4\u001b[0;31m     \u001b[0mplt\u001b[0m\u001b[0;34m.\u001b[0m\u001b[0mimshow\u001b[0m\u001b[0;34m(\u001b[0m\u001b[0mdataset\u001b[0m\u001b[0;34m[\u001b[0m\u001b[0;34m:\u001b[0m\u001b[0;34m,\u001b[0m \u001b[0;34m:\u001b[0m\u001b[0;34m,\u001b[0m \u001b[0;34m:\u001b[0m\u001b[0;34m]\u001b[0m\u001b[0;34m)\u001b[0m\u001b[0;34m\u001b[0m\u001b[0m\n\u001b[0m\u001b[1;32m      5\u001b[0m     \u001b[0mplt\u001b[0m\u001b[0;34m.\u001b[0m\u001b[0mshow\u001b[0m\u001b[0;34m(\u001b[0m\u001b[0;34m)\u001b[0m\u001b[0;34m\u001b[0m\u001b[0m\n",
      "\u001b[0;32m/usr/lib/python2.7/dist-packages/matplotlib/pyplot.pyc\u001b[0m in \u001b[0;36mimshow\u001b[0;34m(X, cmap, norm, aspect, interpolation, alpha, vmin, vmax, origin, extent, shape, filternorm, filterrad, imlim, resample, url, hold, data, **kwargs)\u001b[0m\n\u001b[1;32m   3020\u001b[0m                         \u001b[0mfilternorm\u001b[0m\u001b[0;34m=\u001b[0m\u001b[0mfilternorm\u001b[0m\u001b[0;34m,\u001b[0m \u001b[0mfilterrad\u001b[0m\u001b[0;34m=\u001b[0m\u001b[0mfilterrad\u001b[0m\u001b[0;34m,\u001b[0m\u001b[0;34m\u001b[0m\u001b[0m\n\u001b[1;32m   3021\u001b[0m                         \u001b[0mimlim\u001b[0m\u001b[0;34m=\u001b[0m\u001b[0mimlim\u001b[0m\u001b[0;34m,\u001b[0m \u001b[0mresample\u001b[0m\u001b[0;34m=\u001b[0m\u001b[0mresample\u001b[0m\u001b[0;34m,\u001b[0m \u001b[0murl\u001b[0m\u001b[0;34m=\u001b[0m\u001b[0murl\u001b[0m\u001b[0;34m,\u001b[0m \u001b[0mdata\u001b[0m\u001b[0;34m=\u001b[0m\u001b[0mdata\u001b[0m\u001b[0;34m,\u001b[0m\u001b[0;34m\u001b[0m\u001b[0m\n\u001b[0;32m-> 3022\u001b[0;31m                         **kwargs)\n\u001b[0m\u001b[1;32m   3023\u001b[0m     \u001b[0;32mfinally\u001b[0m\u001b[0;34m:\u001b[0m\u001b[0;34m\u001b[0m\u001b[0m\n\u001b[1;32m   3024\u001b[0m         \u001b[0max\u001b[0m\u001b[0;34m.\u001b[0m\u001b[0mhold\u001b[0m\u001b[0;34m(\u001b[0m\u001b[0mwashold\u001b[0m\u001b[0;34m)\u001b[0m\u001b[0;34m\u001b[0m\u001b[0m\n",
      "\u001b[0;32m/usr/lib/python2.7/dist-packages/matplotlib/__init__.pyc\u001b[0m in \u001b[0;36minner\u001b[0;34m(ax, *args, **kwargs)\u001b[0m\n\u001b[1;32m   1812\u001b[0m                     warnings.warn(msg % (label_namer, func.__name__),\n\u001b[1;32m   1813\u001b[0m                                   RuntimeWarning, stacklevel=2)\n\u001b[0;32m-> 1814\u001b[0;31m             \u001b[0;32mreturn\u001b[0m \u001b[0mfunc\u001b[0m\u001b[0;34m(\u001b[0m\u001b[0max\u001b[0m\u001b[0;34m,\u001b[0m \u001b[0;34m*\u001b[0m\u001b[0margs\u001b[0m\u001b[0;34m,\u001b[0m \u001b[0;34m**\u001b[0m\u001b[0mkwargs\u001b[0m\u001b[0;34m)\u001b[0m\u001b[0;34m\u001b[0m\u001b[0m\n\u001b[0m\u001b[1;32m   1815\u001b[0m         \u001b[0mpre_doc\u001b[0m \u001b[0;34m=\u001b[0m \u001b[0minner\u001b[0m\u001b[0;34m.\u001b[0m\u001b[0m__doc__\u001b[0m\u001b[0;34m\u001b[0m\u001b[0m\n\u001b[1;32m   1816\u001b[0m         \u001b[0;32mif\u001b[0m \u001b[0mpre_doc\u001b[0m \u001b[0;32mis\u001b[0m \u001b[0mNone\u001b[0m\u001b[0;34m:\u001b[0m\u001b[0;34m\u001b[0m\u001b[0m\n",
      "\u001b[0;32m/usr/lib/python2.7/dist-packages/matplotlib/axes/_axes.pyc\u001b[0m in \u001b[0;36mimshow\u001b[0;34m(self, X, cmap, norm, aspect, interpolation, alpha, vmin, vmax, origin, extent, shape, filternorm, filterrad, imlim, resample, url, **kwargs)\u001b[0m\n\u001b[1;32m   4945\u001b[0m                               resample=resample, **kwargs)\n\u001b[1;32m   4946\u001b[0m \u001b[0;34m\u001b[0m\u001b[0m\n\u001b[0;32m-> 4947\u001b[0;31m         \u001b[0mim\u001b[0m\u001b[0;34m.\u001b[0m\u001b[0mset_data\u001b[0m\u001b[0;34m(\u001b[0m\u001b[0mX\u001b[0m\u001b[0;34m)\u001b[0m\u001b[0;34m\u001b[0m\u001b[0m\n\u001b[0m\u001b[1;32m   4948\u001b[0m         \u001b[0mim\u001b[0m\u001b[0;34m.\u001b[0m\u001b[0mset_alpha\u001b[0m\u001b[0;34m(\u001b[0m\u001b[0malpha\u001b[0m\u001b[0;34m)\u001b[0m\u001b[0;34m\u001b[0m\u001b[0m\n\u001b[1;32m   4949\u001b[0m         \u001b[0;32mif\u001b[0m \u001b[0mim\u001b[0m\u001b[0;34m.\u001b[0m\u001b[0mget_clip_path\u001b[0m\u001b[0;34m(\u001b[0m\u001b[0;34m)\u001b[0m \u001b[0;32mis\u001b[0m \u001b[0mNone\u001b[0m\u001b[0;34m:\u001b[0m\u001b[0;34m\u001b[0m\u001b[0m\n",
      "\u001b[0;32m/usr/lib/python2.7/dist-packages/matplotlib/image.pyc\u001b[0m in \u001b[0;36mset_data\u001b[0;34m(self, A)\u001b[0m\n\u001b[1;32m    451\u001b[0m         if (self._A.ndim not in (2, 3) or\n\u001b[1;32m    452\u001b[0m                 (self._A.ndim == 3 and self._A.shape[-1] not in (3, 4))):\n\u001b[0;32m--> 453\u001b[0;31m             \u001b[0;32mraise\u001b[0m \u001b[0mTypeError\u001b[0m\u001b[0;34m(\u001b[0m\u001b[0;34m\"Invalid dimensions for image data\"\u001b[0m\u001b[0;34m)\u001b[0m\u001b[0;34m\u001b[0m\u001b[0m\n\u001b[0m\u001b[1;32m    454\u001b[0m \u001b[0;34m\u001b[0m\u001b[0m\n\u001b[1;32m    455\u001b[0m         \u001b[0mself\u001b[0m\u001b[0;34m.\u001b[0m\u001b[0m_imcache\u001b[0m \u001b[0;34m=\u001b[0m \u001b[0mNone\u001b[0m\u001b[0;34m\u001b[0m\u001b[0m\n",
      "\u001b[0;31mTypeError\u001b[0m: Invalid dimensions for image data"
     ]
    },
    {
     "data": {
      "image/png": "[encoded data removed]",
      "text/plain": [
       "<matplotlib.figure.Figure at 0x7f70d90a3750>"
      ]
     },
     "metadata": {},
     "output_type": "display_data"
    }
   ],
   "source": [
    "for dataset_pickle in train_datasets:\n",
    "    dataset = pickle.load(open(dataset_pickle))\n",
    "    print(dataset_pickle)\n",
    "    plt.imshow(dataset[:, :, :])\n",
    "    plt.show()"
   ]
  },
  {
   "cell_type": "markdown",
   "metadata": {
    "colab_type": "text",
    "id": "cYznx5jUwzoO"
   },
   "source": [
    "---\n",
    "Problem 3\n",
    "---------\n",
    "Another check: we expect the data to be balanced across classes. Verify that.\n",
    "\n",
    "---"
   ]
  },
  {
   "cell_type": "code",
   "execution_count": 9,
   "metadata": {},
   "outputs": [
    {
     "name": "stdout",
     "output_type": "stream",
     "text": [
      "notMNIST_large/A.pickle\n",
      "(52909, 28, 28)\n",
      "notMNIST_large/B.pickle\n",
      "(52911, 28, 28)\n",
      "notMNIST_large/C.pickle\n",
      "(52912, 28, 28)\n",
      "notMNIST_large/D.pickle\n",
      "(52911, 28, 28)\n",
      "notMNIST_large/E.pickle\n",
      "(52912, 28, 28)\n",
      "notMNIST_large/F.pickle\n",
      "(52912, 28, 28)\n",
      "notMNIST_large/G.pickle\n",
      "(52912, 28, 28)\n",
      "notMNIST_large/H.pickle\n",
      "(52912, 28, 28)\n",
      "notMNIST_large/I.pickle\n",
      "(52912, 28, 28)\n",
      "notMNIST_large/J.pickle\n",
      "(52911, 28, 28)\n"
     ]
    }
   ],
   "source": [
    "for dataset_pickle in train_datasets:\n",
    "    dataset = pickle.load(open(dataset_pickle))\n",
    "    print(dataset_pickle)\n",
    "    print(dataset.shape)"
   ]
  },
  {
   "cell_type": "markdown",
   "metadata": {
    "colab_type": "text",
    "id": "LA7M7K22ynCt"
   },
   "source": [
    "Merge and prune the training data as needed. Depending on your computer setup, you might not be able to fit it all in memory, and you can tune `train_size` as needed. The labels will be stored into a separate array of integers 0 through 9.\n",
    "\n",
    "Also create a validation dataset for hyperparameter tuning."
   ]
  },
  {
   "cell_type": "code",
   "execution_count": 16,
   "metadata": {
    "cellView": "both",
    "colab": {
     "autoexec": {
      "startup": false,
      "wait_interval": 0
     },
     "output_extras": [
      {
       "item_id": 1
      }
     ]
    },
    "colab_type": "code",
    "executionInfo": {
     "elapsed": 411281,
     "status": "ok",
     "timestamp": 1444485897869,
     "user": {
      "color": "#1FA15D",
      "displayName": "Vincent Vanhoucke",
      "isAnonymous": false,
      "isMe": true,
      "permissionId": "05076109866853157986",
      "photoUrl": "//lh6.googleusercontent.com/-cCJa7dTDcgQ/AAAAAAAAAAI/AAAAAAAACgw/r2EZ_8oYer4/s50-c-k-no/photo.jpg",
      "sessionId": "2a0a5e044bb03b66",
      "userId": "102167687554210253930"
     },
     "user_tz": 420
    },
    "id": "s3mWgZLpyuzq",
    "outputId": "8af66da6-902d-4719-bedc-7c9fb7ae7948"
   },
   "outputs": [
    {
     "name": "stdout",
     "output_type": "stream",
     "text": [
      "Training: (200000, 28, 28) (200000,)\n",
      "Validation: (10000, 28, 28) (10000,)\n",
      "Testing: (10000, 28, 28) (10000,)\n"
     ]
    }
   ],
   "source": [
    "def make_arrays(nb_rows, img_size):\n",
    "  if nb_rows:\n",
    "    dataset = np.ndarray((nb_rows, img_size, img_size), dtype=np.float32)\n",
    "    labels = np.ndarray(nb_rows, dtype=np.int32)\n",
    "  else:\n",
    "    dataset, labels = None, None\n",
    "  return dataset, labels\n",
    "\n",
    "def merge_datasets(pickle_files, train_size, valid_size=0):\n",
    "  num_classes = len(pickle_files)\n",
    "  valid_dataset, valid_labels = make_arrays(valid_size, image_size)\n",
    "  train_dataset, train_labels = make_arrays(train_size, image_size)\n",
    "  vsize_per_class = valid_size // num_classes\n",
    "  tsize_per_class = train_size // num_classes\n",
    "    \n",
    "  start_v, start_t = 0, 0\n",
    "  end_v, end_t = vsize_per_class, tsize_per_class\n",
    "  end_l = vsize_per_class+tsize_per_class\n",
    "  for label, pickle_file in enumerate(pickle_files):       \n",
    "    try:\n",
    "      with open(pickle_file, 'rb') as f:\n",
    "        letter_set = pickle.load(f)\n",
    "        # let's shuffle the letters to have random validation and training set\n",
    "        np.random.shuffle(letter_set)\n",
    "        if valid_dataset is not None:\n",
    "          valid_letter = letter_set[:vsize_per_class, :, :]\n",
    "          valid_dataset[start_v:end_v, :, :] = valid_letter\n",
    "          valid_labels[start_v:end_v] = label\n",
    "          start_v += vsize_per_class\n",
    "          end_v += vsize_per_class\n",
    "                    \n",
    "        train_letter = letter_set[vsize_per_class:end_l, :, :]\n",
    "        train_dataset[start_t:end_t, :, :] = train_letter\n",
    "        train_labels[start_t:end_t] = label\n",
    "        start_t += tsize_per_class\n",
    "        end_t += tsize_per_class\n",
    "    except Exception as e:\n",
    "      print('Unable to process data from', pickle_file, ':', e)\n",
    "      raise\n",
    "    \n",
    "  return valid_dataset, valid_labels, train_dataset, train_labels\n",
    "            \n",
    "            \n",
    "train_size = 200000\n",
    "valid_size = 10000\n",
    "test_size = 10000\n",
    "\n",
    "valid_dataset, valid_labels, train_dataset, train_labels = merge_datasets(\n",
    "  train_datasets, train_size, valid_size)\n",
    "_, _, test_dataset, test_labels = merge_datasets(test_datasets, test_size)\n",
    "\n",
    "print('Training:', train_dataset.shape, train_labels.shape)\n",
    "print('Validation:', valid_dataset.shape, valid_labels.shape)\n",
    "print('Testing:', test_dataset.shape, test_labels.shape)"
   ]
  },
  {
   "cell_type": "markdown",
   "metadata": {
    "colab_type": "text",
    "id": "GPTCnjIcyuKN"
   },
   "source": [
    "Next, we'll randomize the data. It's important to have the labels well shuffled for the training and test distributions to match."
   ]
  },
  {
   "cell_type": "code",
   "execution_count": 17,
   "metadata": {
    "cellView": "both",
    "colab": {
     "autoexec": {
      "startup": false,
      "wait_interval": 0
     }
    },
    "colab_type": "code",
    "collapsed": true,
    "id": "6WZ2l2tN2zOL"
   },
   "outputs": [],
   "source": [
    "def randomize(dataset, labels):\n",
    "  permutation = np.random.permutation(labels.shape[0])\n",
    "  shuffled_dataset = dataset[permutation,:,:]\n",
    "  shuffled_labels = labels[permutation]\n",
    "  return shuffled_dataset, shuffled_labels\n",
    "train_dataset, train_labels = randomize(train_dataset, train_labels)\n",
    "test_dataset, test_labels = randomize(test_dataset, test_labels)\n",
    "valid_dataset, valid_labels = randomize(valid_dataset, valid_labels)"
   ]
  },
  {
   "cell_type": "markdown",
   "metadata": {
    "colab_type": "text",
    "id": "puDUTe6t6USl"
   },
   "source": [
    "---\n",
    "Problem 4\n",
    "---------\n",
    "Convince yourself that the data is still good after shuffling!\n",
    "\n",
    "---"
   ]
  },
  {
   "cell_type": "code",
   "execution_count": 18,
   "metadata": {},
   "outputs": [
    {
     "name": "stdout",
     "output_type": "stream",
     "text": [
      "Training: (200000, 28, 28) (200000,)\n",
      "Validation: (10000, 28, 28) (10000,)\n",
      "Testing: (10000, 28, 28) (10000,)\n"
     ]
    }
   ],
   "source": [
    "print('Training:', train_dataset.shape, train_labels.shape)\n",
    "print('Validation:', valid_dataset.shape, valid_labels.shape)\n",
    "print('Testing:', test_dataset.shape, test_labels.shape)"
   ]
  },
  {
   "cell_type": "markdown",
   "metadata": {
    "colab_type": "text",
    "id": "tIQJaJuwg5Hw"
   },
   "source": [
    "Finally, let's save the data for later reuse:"
   ]
  },
  {
   "cell_type": "code",
   "execution_count": 19,
   "metadata": {
    "cellView": "both",
    "colab": {
     "autoexec": {
      "startup": false,
      "wait_interval": 0
     }
    },
    "colab_type": "code",
    "collapsed": true,
    "id": "QiR_rETzem6C"
   },
   "outputs": [],
   "source": [
    "pickle_file = 'notMNIST.pickle'\n",
    "\n",
    "try:\n",
    "  f = open(pickle_file, 'wb')\n",
    "  save = {\n",
    "    'train_dataset': train_dataset,\n",
    "    'train_labels': train_labels,\n",
    "    'valid_dataset': valid_dataset,\n",
    "    'valid_labels': valid_labels,\n",
    "    'test_dataset': test_dataset,\n",
    "    'test_labels': test_labels,\n",
    "    }\n",
    "  pickle.dump(save, f, pickle.HIGHEST_PROTOCOL)\n",
    "  f.close()\n",
    "except Exception as e:\n",
    "  print('Unable to save data to', pickle_file, ':', e)\n",
    "  raise"
   ]
  },
  {
   "cell_type": "code",
   "execution_count": 20,
   "metadata": {
    "cellView": "both",
    "colab": {
     "autoexec": {
      "startup": false,
      "wait_interval": 0
     },
     "output_extras": [
      {
       "item_id": 1
      }
     ]
    },
    "colab_type": "code",
    "executionInfo": {
     "elapsed": 413065,
     "status": "ok",
     "timestamp": 1444485899688,
     "user": {
      "color": "#1FA15D",
      "displayName": "Vincent Vanhoucke",
      "isAnonymous": false,
      "isMe": true,
      "permissionId": "05076109866853157986",
      "photoUrl": "//lh6.googleusercontent.com/-cCJa7dTDcgQ/AAAAAAAAAAI/AAAAAAAACgw/r2EZ_8oYer4/s50-c-k-no/photo.jpg",
      "sessionId": "2a0a5e044bb03b66",
      "userId": "102167687554210253930"
     },
     "user_tz": 420
    },
    "id": "hQbLjrW_iT39",
    "outputId": "b440efc6-5ee1-4cbc-d02d-93db44ebd956"
   },
   "outputs": [
    {
     "name": "stdout",
     "output_type": "stream",
     "text": [
      "Compressed pickle size: 690800441\n"
     ]
    }
   ],
   "source": [
    "statinfo = os.stat(pickle_file)\n",
    "print('Compressed pickle size:', statinfo.st_size)"
   ]
  },
  {
   "cell_type": "markdown",
   "metadata": {
    "colab_type": "text",
    "id": "gE_cRAQB33lk"
   },
   "source": [
    "---\n",
    "Problem 5\n",
    "---------\n",
    "\n",
    "By construction, this dataset might contain a lot of overlapping samples, including training data that's also contained in the validation and test set! Overlap between training and test can skew the results if you expect to use your model in an environment where there is never an overlap, but are actually ok if you expect to see training samples recur when you use it.\n",
    "Measure how much overlap there is between training, validation and test samples.\n",
    "\n",
    "Optional questions:\n",
    "- What about near duplicates between datasets? (images that are almost identical)\n",
    "- Create a sanitized validation and test set, and compare your accuracy on those in subsequent assignments.\n",
    "---"
   ]
  },
  {
   "cell_type": "code",
   "execution_count": 25,
   "metadata": {},
   "outputs": [
    {
     "name": "stdout",
     "output_type": "stream",
     "text": [
      "hashing test dataset (B letter) is done: 991 unique hashes\n",
      "processed 0 B letters in the training set\n",
      "-> similar hash in training and test datasets: bb622974797093b7e9e858daa12d6f24bb621aca8607e7d3c62ad7c93c4874d3\n",
      "-> similar hash in training and test datasets: efe91856dd1c8dfe8200d5e426520cd1688de1f28e3bd944ce8129c214e02ce9\n",
      "-> similar hash in training and test datasets: cd78162187792641e3c8f00d1662c3fd69315e45004824970ba5cd2611ca1684\n",
      "processed 10000 B letters in the training set\n",
      "-> similar hash in training and test datasets: b159bf5306e9f24dcc349d7930ceccf923044f2eb3426f51348ba2cad95a92d4\n",
      "-> similar hash in training and test datasets: e048e2ed143c751712ea72aa9c3ce748bd7618e41254a0f7bf227529a60d1098\n",
      "-> similar hash in training and test datasets: f7c6b53008be868c43aa7a372ae4f5874af0ed64d1d0f3863de5249fd162ed47\n",
      "processed 20000 B letters in the training set\n",
      "-> similar hash in training and test datasets: 66d06c05eae808c714859c2ef612b6c9cf0e4d0277be173b271b6425f98303d9\n",
      "-> similar hash in training and test datasets: e8d488d23d48d850b58cf471140dc3cd968c22c801833dcc0808d3282bec1ec5\n",
      "-> similar hash in training and test datasets: ec8b0ad34ac0b70db1d0703000252bf94e8cbb6f7c1653bff4cc7eaab99711e6\n",
      "-> similar hash in training and test datasets: 2d572c31b763a36a5b540667e2d9f5ca5ff03570caa72124efd6fdea3e14f3d1\n",
      "-> similar hash in training and test datasets: 9c24e1f11ed69fb1d4a30f1aec90d447845af901444231380ae365724b1b23be\n",
      "-> similar hash in training and test datasets: df8cf036f42e3f481e2072e8b4486a52124f9bc143c5719bd7161a22952a7bc0\n",
      "-> similar hash in training and test datasets: 3c1dba0ecd1bfee36038f092dea414a1802d53f2692d609836bd6bb71f7d9675\n",
      "processed 30000 B letters in the training set\n",
      "-> similar hash in training and test datasets: a836dbda5796f44e8cf70c6cd2ba4125e2b7915b336144c27ffa64f43030b6bb\n",
      "-> similar hash in training and test datasets: bcf751be262dca7c8ba16551d446f01bba7a124ba9116410ea0ecd76891f6621\n",
      "-> similar hash in training and test datasets: e41bd171bf3cda02b3f04aecdcf435d13f6afe6e61dcd1be2410b3ad7e07fca1\n",
      "-> similar hash in training and test datasets: c1b4952fbe37780d1d5c36789cb8171fe63cceed0ab2338eba7822759741797c\n",
      "-> similar hash in training and test datasets: 9956339728e930512dea6949749d5a8df4447fb948b00280222b9c156f330245\n",
      "-> similar hash in training and test datasets: e16cc36baa24a464262699d5ad2613317c6376806b03d968fd9da1b64bc0121f\n",
      "-> similar hash in training and test datasets: 7476f677bbf6b71645702b5d66e988e1d32d327563daf5903ebae8d46eb7b486\n",
      "-> similar hash in training and test datasets: c4276da6a750ace4e2023a2ffbe76eadc6d7ec72bbc91fd125f951106483c0c4\n",
      "processed 40000 B letters in the training set\n",
      "-> similar hash in training and test datasets: 6ae21dedcc6a4fb20ac2435b4c55ea47c8d237c8991c3f588bc9f5003f3023f1\n",
      "-> similar hash in training and test datasets: 72af28a4f2db3ba4fb94079b89be78d9973f2b07f9c5e5a6fdad615f8ff1002f\n",
      "-> similar hash in training and test datasets: 4a97c183a7bdf4e859a6866b9c0c046bbe08adf9ce0b60c8cf8346ca8e607a7c\n",
      "-> similar hash in training and test datasets: 5c3ab39fd24dcca09185fe118260fb006fdbb89c625a8313bb0e97742aa1e305\n",
      "-> similar hash in training and test datasets: f24a7479e57d6f0465d96af267c7c9dea399916cb595355e61b29321edd6af90\n",
      "-> similar hash in training and test datasets: bc7715d95e34376007fe095cf61958d6627254ab78c4c3d4ffa6e6b08f8a4807\n",
      "-> similar hash in training and test datasets: 99be1eb049ce0359366defb3663320939b4cbb1ef9ba6ab052ed5c9fa75331c0\n",
      "processed 50000 B letters in the training set\n",
      "-> similar hash in training and test datasets: a512e653b0777c2f3aa127c1706a3c67ddf94985d1f1933639d2e442d54c935a\n",
      "-> similar hash in training and test datasets: df6995471037ae3b8a93f002bb7c7f1ab92ce85ef3835545ca90a3926dd21007\n",
      "-> similar hash in training and test datasets: 651a9e0cf049dec1d6003f314fb9e2ad3fc6163ffbf20281c776315a11a569f9\n",
      "-> similar hash in training and test datasets: 1dfe264fe4a21fe008b46fffd0f2bf943ba3cfa6053c56437d3e12f9b067c4b9\n",
      "-> similar hash in training and test datasets: acc82927e5c01881962839836e470b9f5551cc4e6b4ee93abc3172a91bc16a1f\n",
      "processed 60000 B letters in the training set\n",
      "-> similar hash in training and test datasets: 69f3d2c58c274d638a0ce380aa8d1423db3723309e5c6cd305b334b36fa218a8\n",
      "-> similar hash in training and test datasets: 4b54d55710a1fb7d1a1520c413744f20b5e75cbfc3250cbf470bbdec3c78a820\n",
      "-> similar hash in training and test datasets: 9d9b288a86fb662df09c46980380c16c54061a370c6e14ced74141cc495d4b28\n",
      "-> similar hash in training and test datasets: ebce678dbd04c9d120479549d6a379579b67129f37183764e22e33c0ff31bd1e\n",
      "-> similar hash in training and test datasets: a7b70619bc8c80d0782a4062814d5701adb959c8a0ca98d6b4ddf49cea80f99f\n",
      "-> similar hash in training and test datasets: 94e98b8055260c56f5e6c9c088bf0a04458bfcb962a6833a300b7f9c06db69cc\n",
      "processed 70000 B letters in the training set\n",
      "-> similar hash in training and test datasets: a086fcd6b16638c9775da9c4000edec8ef39d7d4fcc292ca55b14c6ee4052fcd\n",
      "-> similar hash in training and test datasets: ce443918dd25b3c837d86db885e4c42063b3172428bc8e0c4fa01c64c430fdc9\n",
      "-> similar hash in training and test datasets: 6e1679ec31e5d47939007ba2086e9b7527d3012f17a87e4d5f2d0cbab61e0b0f\n",
      "-> similar hash in training and test datasets: 51a9d3f82875247b0f6466aa62ce4ae844f183998b800589b959558e6b97184c\n",
      "-> similar hash in training and test datasets: 6814560f72e2294dc39069b09a3e16a6aba19b5aa2e997a4d0be3747be54e431\n",
      "-> similar hash in training and test datasets: 751042fb13ff1d9f49da1dcd0163831c43aaf7ed2bbe995611fe5195f464d609\n",
      "-> similar hash in training and test datasets: 3214f73f13a9b0d7dce50d66cd28f7791c0e669eaa95c8979668772bf7f9cba6\n",
      "-> similar hash in training and test datasets: a7c0673ba653e372e046efae35aa651431abde2c2f396d00b7631620705959eb\n",
      "-> similar hash in training and test datasets: afd14d68edd036e1a0c256a3e08df00d68399095e934ae540675f673af679488\n",
      "-> similar hash in training and test datasets: 51a9d3f82875247b0f6466aa62ce4ae844f183998b800589b959558e6b97184c\n",
      "processed 80000 B letters in the training set\n",
      "-> similar hash in training and test datasets: 03d5793cca0b6f085b9e15d8a4095cf61b3e05b53cf960f7ac7e05ca635824af\n",
      "-> similar hash in training and test datasets: bcf751be262dca7c8ba16551d446f01bba7a124ba9116410ea0ecd76891f6621\n",
      "-> similar hash in training and test datasets: e30eb0e3fd6939e882a70486e790c8331ca28ca2ee20fb7ac662474c9c313c68\n",
      "-> similar hash in training and test datasets: 290ba84e4c1ca4c278078c51a554a3347d4a75428348aec43cb112a2bc377938\n",
      "-> similar hash in training and test datasets: 12d73561875b35e9300330e3f3d13667cb293398c9558b494f63436b8510128a\n",
      "-> similar hash in training and test datasets: 66a3d38944afbb780ce52cd370158329e89d69897c586988519fed3b31970344\n",
      "-> similar hash in training and test datasets: cfbda78a78a5b7b7f7aeccfc924a8c67f1c1b4d7902f0dc477f2c41e236f4e8e\n",
      "processed 90000 B letters in the training set\n",
      "-> similar hash in training and test datasets: bb622974797093b7e9e858daa12d6f24bb621aca8607e7d3c62ad7c93c4874d3\n",
      "-> similar hash in training and test datasets: 64778209edd67c84e47714b91cbf8cc80dac3dbabc7aabda4e5a38f413df2537\n",
      "-> similar hash in training and test datasets: 1a8afd59ab082c40af02277bf62b3230d112539826035094197e7251711d4bad\n",
      "-> similar hash in training and test datasets: 42e17982ff882e0421a9fec47a418618c9aa23a3ea13b3309d0b7b2392051c17\n",
      "processed 100000 B letters in the training set\n",
      "-> similar hash in training and test datasets: 5cb90aac4611ae99f1a3f2b50874305f7ccb65a563bbb29ed48c4f9ce95c1971\n",
      "-> similar hash in training and test datasets: db850e4a4fcf43be50b757d8101e7abb7c445d718550b537f50409735254af46\n",
      "-> similar hash in training and test datasets: 4881c5270ace0dd44260385614cd28f042dc9e976500fb67ed027cb043bd2eb0\n",
      "processed 110000 B letters in the training set\n",
      "-> similar hash in training and test datasets: ab2e8e2d27efa91fc96c35cb8bbbea27d5e118ccd9ff1865f895f494815c8c95\n",
      "-> similar hash in training and test datasets: 56a228da4675ee9a1b04369bafb7eebf99a5b89d8fe00a7114d58a0c05ae7cdc\n",
      "-> similar hash in training and test datasets: afd3b3f056e8e05a23c2941f2026d6605189afe1b587314a111ffd1c10726aa9\n",
      "processed 120000 B letters in the training set\n",
      "-> similar hash in training and test datasets: f877386b2472caa89f99dde6331012a9752ba51ecd482c9e3b283143886781ff\n",
      "-> similar hash in training and test datasets: bc83812417a5ec541b0c3988846d0f0b5ee09844b1676723d660b7056d6c3139\n",
      "-> similar hash in training and test datasets: 37107c5bcf1ec8dd01a7855ef6be260595f5888fbedecd0903535da602232522\n",
      "-> similar hash in training and test datasets: f7c6b53008be868c43aa7a372ae4f5874af0ed64d1d0f3863de5249fd162ed47\n",
      "-> similar hash in training and test datasets: e77c8455b02e97a93938ad5d8aa5bc87f5a66ea8b574ce9d0a5d6e15179f3705\n",
      "-> similar hash in training and test datasets: d3992a22d2434c565d5004ede63af1569ade1d3f66b30164973bc327997a2c8d\n",
      "-> similar hash in training and test datasets: 04515abea8723ac690caa80bda90999818a803ba5dfb09be2663fa54e59c6823\n",
      "-> similar hash in training and test datasets: bcf751be262dca7c8ba16551d446f01bba7a124ba9116410ea0ecd76891f6621\n",
      "-> similar hash in training and test datasets: 304e40bba275689877bc431f59868e604465526b68c088e615ff307f1e5accf1\n",
      "processed 130000 B letters in the training set\n",
      "-> similar hash in training and test datasets: 8917f589ab375e1f903d450b7b0136c0db67660554ca13fbb16d6a9ea9ab1a93\n",
      "-> similar hash in training and test datasets: 41c3cd3d51bda517bb4e82ce59f47c8ec4a86e8db96a1cc346c0d86baadc1e1a\n",
      "-> similar hash in training and test datasets: bc45976c1c9f40f8da46ff472dc28b757509b49b6d6ca7e4c1fab0b07c556386\n",
      "-> similar hash in training and test datasets: 9cda56f5a05fc76fb703432f54ec7d7ac47052aa6d6ce3f9116d1e0976d62291\n",
      "-> similar hash in training and test datasets: 89f45246f87dffc4c98b5b73dffd3e4cb30ce7786a73ca0addcc22063ed97397\n",
      "-> similar hash in training and test datasets: da7384bf867170d3abdb45eb23b095525ce67d9d894978fea383e71ec1754d5c\n",
      "processed 140000 B letters in the training set\n",
      "-> similar hash in training and test datasets: e81f0c026aa4906d661363a903e44bd26ceb24d3911c7f8c29e303c8c762c41c\n",
      "-> similar hash in training and test datasets: 285522d870bbde04f9bc24dc33e77efaa164d0b929c86f0fa2d77173b790a1f1\n",
      "-> similar hash in training and test datasets: bdfac9160941f6614b4793f3e31d4d20a517ba007b05a3cc6812f2fcb480a5c8\n",
      "-> similar hash in training and test datasets: 879cec96c4f9ce7a63254c5353e03843d35dcca1763fc0b93c515112b0cc1ff4\n",
      "-> similar hash in training and test datasets: c1b4952fbe37780d1d5c36789cb8171fe63cceed0ab2338eba7822759741797c\n",
      "-> similar hash in training and test datasets: 3e8feb19e482142983fb0c0d57b8aa27ab5977d4c7f7a0f40b65b9b6bf6c7258\n",
      "-> similar hash in training and test datasets: db850e4a4fcf43be50b757d8101e7abb7c445d718550b537f50409735254af46\n",
      "-> similar hash in training and test datasets: 66d06c05eae808c714859c2ef612b6c9cf0e4d0277be173b271b6425f98303d9\n",
      "processed 150000 B letters in the training set\n",
      "-> similar hash in training and test datasets: 9c24e1f11ed69fb1d4a30f1aec90d447845af901444231380ae365724b1b23be\n",
      "-> similar hash in training and test datasets: 0ca50a3cdb00d6138467f2f54a9f1abdc7e66a51de43655f1700e790acdac151\n",
      "-> similar hash in training and test datasets: 23a811342b0dc0e92776d30ede9d3d85e448ebafc2f8bb4cc1c58f2187596acc\n",
      "-> similar hash in training and test datasets: ce443918dd25b3c837d86db885e4c42063b3172428bc8e0c4fa01c64c430fdc9\n",
      "-> similar hash in training and test datasets: 4e550ff9fa496c0e756fce2c70edfa16d54eb393440c6225ae54c4d65dd90a51\n",
      "-> similar hash in training and test datasets: 4af25df360591d382558d497ea26a662ebf56eb90ad68d71d9855246ff119fd7\n",
      "-> similar hash in training and test datasets: bb622974797093b7e9e858daa12d6f24bb621aca8607e7d3c62ad7c93c4874d3\n",
      "-> similar hash in training and test datasets: c1fb8460d54167f22a91d89cadfd68337d285f410479a09337c1f7711425e1e3\n",
      "-> similar hash in training and test datasets: bcf751be262dca7c8ba16551d446f01bba7a124ba9116410ea0ecd76891f6621\n",
      "processed 160000 B letters in the training set\n",
      "-> similar hash in training and test datasets: efe91856dd1c8dfe8200d5e426520cd1688de1f28e3bd944ce8129c214e02ce9\n",
      "-> similar hash in training and test datasets: f7c6b53008be868c43aa7a372ae4f5874af0ed64d1d0f3863de5249fd162ed47\n",
      "-> similar hash in training and test datasets: 9cda56f5a05fc76fb703432f54ec7d7ac47052aa6d6ce3f9116d1e0976d62291\n",
      "-> similar hash in training and test datasets: e81f0c026aa4906d661363a903e44bd26ceb24d3911c7f8c29e303c8c762c41c\n",
      "-> similar hash in training and test datasets: bc45976c1c9f40f8da46ff472dc28b757509b49b6d6ca7e4c1fab0b07c556386\n",
      "-> similar hash in training and test datasets: e81f0c026aa4906d661363a903e44bd26ceb24d3911c7f8c29e303c8c762c41c\n",
      "-> similar hash in training and test datasets: c4a614dc0bd59180af77187bbc5faff3861f06e6d0e45a26aaddbc4ef178b02f\n",
      "processed 170000 B letters in the training set\n",
      "-> similar hash in training and test datasets: e63b092d7cbb771891ba710093becbe90a49b474f5fa3c79fe01b44bc12baf11\n",
      "-> similar hash in training and test datasets: de8e53c2bdb944a75ca4ca08850bf81dabca99881c4d5205268345bc18fec288\n",
      "-> similar hash in training and test datasets: 6ae21dedcc6a4fb20ac2435b4c55ea47c8d237c8991c3f588bc9f5003f3023f1\n",
      "-> similar hash in training and test datasets: 0cf8ac22dfa011305fb22185679bfc92907ed62d4792ee3706a1c46b209c7cb0\n",
      "-> similar hash in training and test datasets: b159bf5306e9f24dcc349d7930ceccf923044f2eb3426f51348ba2cad95a92d4\n",
      "-> similar hash in training and test datasets: af0f51263b47d11c4a302b51811c034c4709bd4e06e77c901877e31b10a61625\n",
      "processed 180000 B letters in the training set\n",
      "-> similar hash in training and test datasets: ba5a649a5e8e480f0f44b45fafa21ed727ae1bdeded29bb6c38264cd2848ede1\n",
      "-> similar hash in training and test datasets: f11e7e4dfbd55400cf55bd5b924b839bd5877b3d5a71a7de7ade8ebefdd0d889\n",
      "-> similar hash in training and test datasets: 0191a60dbbe423b157b33c2dd37294856ed8d443a511281a7556728bc242a5ef\n",
      "-> similar hash in training and test datasets: 206afd756e06d1b6f80bef120c3859b5712dcbde042cc8dc1e29398eaa7e7dfc\n",
      "-> similar hash in training and test datasets: b254657cdca52f25b16833b9a9dfd70b68969df2a3acec8eed62b3bfd22ac6d0\n",
      "-> similar hash in training and test datasets: 6ae21dedcc6a4fb20ac2435b4c55ea47c8d237c8991c3f588bc9f5003f3023f1\n",
      "-> similar hash in training and test datasets: bc45976c1c9f40f8da46ff472dc28b757509b49b6d6ca7e4c1fab0b07c556386\n",
      "-> similar hash in training and test datasets: 2749a630d67a1664f7a900ebaf35e5344dfde8f4a85411f6f4549ce3b9af1285\n",
      "processed 190000 B letters in the training set\n",
      "-> similar hash in training and test datasets: 683e404da7b49fa68b91ca5c1a568024bf904a70738dab62ab6aeaa901d189bd\n",
      "-> similar hash in training and test datasets: 665b6dd17e9b22170f5c5478bbcf177d72d1aa9850a0e6023b800029f5392501\n",
      "-> similar hash in training and test datasets: 7d6902fe600f7bbb828b28eb3880a1939e08511a5f59745ceee18448e832b219\n",
      "-> similar hash in training and test datasets: a512e653b0777c2f3aa127c1706a3c67ddf94985d1f1933639d2e442d54c935a\n"
     ]
    }
   ],
   "source": [
    "from hashlib import sha256\n",
    "from itertools import izip\n",
    "\n",
    "b_hashes = set()\n",
    "\n",
    "for img, label in izip(test_dataset, test_labels):\n",
    "    if label == 1:\n",
    "        b_hashes.add(sha256(img).hexdigest())\n",
    "\n",
    "print('hashing test dataset (B letter) is done: {0} unique hashes'.format(len(b_hashes)))\n",
    "        \n",
    "for idx, (img, label) in enumerate(izip(train_dataset, train_labels)):\n",
    "    if idx % 10000 == 0:\n",
    "        print('processed {0} B letters in the training set'.format(idx))\n",
    "    hash_ = sha256(img).hexdigest()\n",
    "    if label == 1 and hash_ in b_hashes:\n",
    "        print('-> similar hash in training and test datasets: {0}'.format(hash_))"
   ]
  },
  {
   "cell_type": "markdown",
   "metadata": {
    "colab_type": "text",
    "id": "L8oww1s4JMQx"
   },
   "source": [
    "---\n",
    "Problem 6\n",
    "---------\n",
    "\n",
    "Let's get an idea of what an off-the-shelf classifier can give you on this data. It's always good to check that there is something to learn, and that it's a problem that is not so trivial that a canned solution solves it.\n",
    "\n",
    "Train a simple model on this data using 50, 100, 1000 and 5000 training samples. Hint: you can use the LogisticRegression model from sklearn.linear_model.\n",
    "\n",
    "Optional question: train an off-the-shelf model on all the data!\n",
    "\n",
    "---"
   ]
  },
  {
   "cell_type": "code",
   "execution_count": 21,
   "metadata": {},
   "outputs": [
    {
     "name": "stdout",
     "output_type": "stream",
     "text": [
      "[[[-0.45686275  0.10392157  0.5        ...,  0.48431373  0.5        -0.11176471]\n",
      "  [-0.49607843 -0.5        -0.08431373 ...,  0.48431373  0.5        -0.11176471]\n",
      "  [-0.49607843 -0.49215686 -0.5        ...,  0.48039216  0.5        -0.11176471]\n",
      "  ..., \n",
      "  [-0.49607843 -0.49215686 -0.5        ...,  0.48039216  0.5        -0.11176471]\n",
      "  [-0.49607843 -0.5        -0.0882353  ...,  0.48431373  0.5        -0.11176471]\n",
      "  [-0.45294118  0.10392157  0.5        ...,  0.48431373  0.5        -0.11176471]]\n",
      "\n",
      " [[-0.5        -0.5        -0.5        ...,  0.37843138  0.07647059\n",
      "   -0.37450981]\n",
      "  [-0.5        -0.5        -0.5        ..., -0.22941177 -0.48823529 -0.5       ]\n",
      "  [-0.5        -0.5        -0.5        ..., -0.5        -0.5        -0.49607843]\n",
      "  ..., \n",
      "  [-0.5        -0.11960784  0.28039217 ..., -0.5        -0.5        -0.5       ]\n",
      "  [-0.49607843 -0.5        -0.3392157  ..., -0.5        -0.5        -0.5       ]\n",
      "  [-0.5        -0.49607843 -0.49607843 ..., -0.5        -0.5        -0.5       ]]]\n",
      "[[-0.45686275  0.10392157  0.5        ...,  0.48431373  0.5        -0.11176471]\n",
      " [-0.5        -0.5        -0.5        ..., -0.5        -0.5        -0.5       ]]\n"
     ]
    }
   ],
   "source": [
    "def to2d(x):\n",
    "    return x.reshape(x.shape[0], x.shape[1] * x.shape[2])\n",
    "\n",
    "train_2d = to2d(train_dataset)\n",
    "test_2d = to2d(test_dataset)\n",
    "valid_2d = to2d(valid_dataset)\n",
    "\n",
    "print(train_dataset[:2])\n",
    "print(train_2d[:2])"
   ]
  },
  {
   "cell_type": "markdown",
   "metadata": {},
   "source": [
    "Create a generic function to train and score the model.\n",
    "We will use 50, then 100, 1000, 5000, 10000, and finally 50000 training samples."
   ]
  },
  {
   "cell_type": "code",
   "execution_count": 22,
   "metadata": {},
   "outputs": [],
   "source": [
    "samples = (50, 100, 1000, 5000, 10000, 50000)\n",
    "\n",
    "def train_score(n, cls, *args, **kwargs):\n",
    "    model = cls(*args, **kwargs)\n",
    "    model.fit(train_2d[:n], train_labels[:n])\n",
    "    \n",
    "    return (model.score(test_2d, test_labels), model.score(valid_2d, valid_labels))\n"
   ]
  },
  {
   "cell_type": "markdown",
   "metadata": {},
   "source": [
    "Train with a logistic regression model."
   ]
  },
  {
   "cell_type": "code",
   "execution_count": 23,
   "metadata": {},
   "outputs": [
    {
     "name": "stdout",
     "output_type": "stream",
     "text": [
      "CPU times: user 6min 24s, sys: 156 ms, total: 6min 25s\n",
      "Wall time: 6min 25s\n"
     ]
    },
    {
     "data": {
      "text/plain": [
       "[(50, (0.63290000000000002, 0.57050000000000001)),\n",
       " (100, (0.74109999999999998, 0.66579999999999995)),\n",
       " (1000, (0.83350000000000002, 0.75890000000000002)),\n",
       " (5000, (0.8508, 0.77449999999999997)),\n",
       " (10000, (0.85840000000000005, 0.77849999999999997)),\n",
       " (50000, (0.8841, 0.8095))]"
      ]
     },
     "execution_count": 23,
     "metadata": {},
     "output_type": "execute_result"
    }
   ],
   "source": [
    "%time [(n, train_score(n, LogisticRegression)) for n in samples]"
   ]
  },
  {
   "cell_type": "markdown",
   "metadata": {},
   "source": [
    "Train with a naive Bayes model."
   ]
  },
  {
   "cell_type": "code",
   "execution_count": 29,
   "metadata": {
    "scrolled": true
   },
   "outputs": [
    {
     "name": "stdout",
     "output_type": "stream",
     "text": [
      "CPU times: user 5.22 s, sys: 4.5 s, total: 9.72 s\n",
      "Wall time: 9.72 s\n"
     ]
    },
    {
     "data": {
      "text/plain": [
       "[(50, (0.34429999999999999, 0.31559999999999999)),\n",
       " (100, (0.44840000000000002, 0.42099999999999999)),\n",
       " (1000, (0.80740000000000001, 0.7298)),\n",
       " (5000, (0.79869999999999997, 0.72689999999999999)),\n",
       " (10000, (0.79749999999999999, 0.72499999999999998)),\n",
       " (50000, (0.80069999999999997, 0.72829999999999995))]"
      ]
     },
     "execution_count": 29,
     "metadata": {},
     "output_type": "execute_result"
    }
   ],
   "source": [
    "from sklearn.naive_bayes import GaussianNB\n",
    "\n",
    "%time [(n, train_score(n, GaussianNB)) for n in samples]"
   ]
  },
  {
   "cell_type": "markdown",
   "metadata": {},
   "source": [
    "Train with a random forest (decision trees) regressor model."
   ]
  },
  {
   "cell_type": "code",
   "execution_count": 26,
   "metadata": {},
   "outputs": [
    {
     "name": "stdout",
     "output_type": "stream",
     "text": [
      "CPU times: user 2min 32s, sys: 0 ns, total: 2min 32s\n",
      "Wall time: 2min 33s\n"
     ]
    },
    {
     "data": {
      "text/plain": [
       "[(50, (0.16329006060606055, 0.12253939393939393)),\n",
       " (100, (0.34873878787878787, 0.27626351515151504)),\n",
       " (1000, (0.6956255235016835, 0.57508367838383834)),\n",
       " (5000, (0.76602213157332, 0.66514848604094223)),\n",
       " (10000, (0.78756251414689615, 0.68617721665119857)),\n",
       " (50000, (0.83609884015587954, 0.74994994506453572))]"
      ]
     },
     "execution_count": 26,
     "metadata": {},
     "output_type": "execute_result"
    }
   ],
   "source": [
    "from sklearn.ensemble import RandomForestRegressor\n",
    "\n",
    "%time [(n, train_score(n, RandomForestRegressor)) for n in samples]"
   ]
  },
  {
   "cell_type": "markdown",
   "metadata": {},
   "source": [
    "Let's try the metrics module in scikit learn..."
   ]
  },
  {
   "cell_type": "code",
   "execution_count": 27,
   "metadata": {},
   "outputs": [
    {
     "name": "stdout",
     "output_type": "stream",
     "text": [
      "Metrics for 1000 samples with <class 'sklearn.linear_model.logistic.LogisticRegression'>:\n",
      "classification:\n",
      "             precision    recall  f1-score   support\n",
      "\n",
      "          0       0.91      0.85      0.88       112\n",
      "          1       0.82      0.79      0.81       117\n",
      "          2       0.82      0.86      0.84        92\n",
      "          3       0.84      0.86      0.85        92\n",
      "          4       0.78      0.69      0.74        98\n",
      "          5       0.85      0.92      0.88        91\n",
      "          6       0.88      0.85      0.87       107\n",
      "          7       0.89      0.87      0.88       103\n",
      "          8       0.80      0.87      0.83        95\n",
      "          9       0.86      0.90      0.88        93\n",
      "\n",
      "avg / total       0.85      0.85      0.85      1000\n",
      "\n",
      "confusion matrix:\n",
      "[[95  5  2  1  1  0  0  5  3  0]\n",
      " [ 2 93  1  7  6  1  2  1  3  1]\n",
      " [ 1  1 79  1  4  3  1  0  1  1]\n",
      " [ 1  4  2 79  1  1  2  0  2  0]\n",
      " [ 2  8  4  2 68  2  3  3  3  3]\n",
      " [ 0  0  1  1  2 84  0  0  3  0]\n",
      " [ 0  1  4  2  2  2 91  1  0  4]\n",
      " [ 1  2  1  0  2  2  2 90  2  1]\n",
      " [ 1  0  1  1  1  3  1  0 83  4]\n",
      " [ 1  0  1  0  0  1  1  1  4 84]]\n"
     ]
    }
   ],
   "source": [
    "from sklearn import metrics\n",
    "\n",
    "def train_predict(n, cls, *args, **kwargs):\n",
    "    print('Metrics for {0} samples with {1}:'.format(n, cls))\n",
    "    model = cls(*args, **kwargs)\n",
    "    model.fit(train_2d[:n], train_labels[:n])\n",
    "    \n",
    "    pred = model.predict(test_2d[:n])\n",
    "    print('classification:')\n",
    "    print(metrics.classification_report(test_labels[:n], pred))\n",
    "    print('confusion matrix:')\n",
    "    print(metrics.confusion_matrix(test_labels[:n], pred))\n",
    "\n",
    "train_predict(1000, LogisticRegression)\n",
    "\n"
   ]
  },
  {
   "cell_type": "markdown",
   "metadata": {},
   "source": [
    "Number of parameters for the model:"
   ]
  },
  {
   "cell_type": "code",
   "execution_count": 28,
   "metadata": {},
   "outputs": [
    {
     "data": {
      "text/plain": [
       "7850"
      ]
     },
     "execution_count": 28,
     "metadata": {},
     "output_type": "execute_result"
    }
   ],
   "source": [
    "model = LogisticRegression()\n",
    "model.fit(train_2d[:1000], train_labels[:1000])\n",
    "len(model.coef_.ravel()) + len(model.intercept_)"
   ]
  },
  {
   "cell_type": "code",
   "execution_count": null,
   "metadata": {
    "collapsed": true
   },
   "outputs": [],
   "source": []
  }
 ],
 "metadata": {
  "colab": {
   "default_view": {},
   "name": "1_notmnist.ipynb",
   "provenance": [],
   "version": "0.3.2",
   "views": {}
  },
  "kernelspec": {
   "display_name": "Python 2",
   "language": "python",
   "name": "python2"
  },
  "language_info": {
   "codemirror_mode": {
    "name": "ipython",
    "version": 2
   },
   "file_extension": ".py",
   "mimetype": "text/x-python",
   "name": "python",
   "nbconvert_exporter": "python",
   "pygments_lexer": "ipython2",
   "version": "2.7.12"
  }
 },
 "nbformat": 4,
 "nbformat_minor": 1
}
