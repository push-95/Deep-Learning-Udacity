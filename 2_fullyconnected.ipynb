{
 "cells": [
  {
   "cell_type": "markdown",
   "metadata": {
    "colab_type": "text",
    "id": "kR-4eNdK6lYS"
   },
   "source": [
    "Deep Learning\n",
    "=============\n",
    "\n",
    "Assignment 2\n",
    "------------\n",
    "\n",
    "Previously in `1_notmnist.ipynb`, we created a pickle with formatted datasets for training, development and testing on the [notMNIST dataset](http://yaroslavvb.blogspot.com/2011/09/notmnist-dataset.html).\n",
    "\n",
    "The goal of this assignment is to progressively train deeper and more accurate models using TensorFlow."
   ]
  },
  {
   "cell_type": "code",
   "execution_count": 3,
   "metadata": {
    "cellView": "both",
    "colab": {
     "autoexec": {
      "startup": false,
      "wait_interval": 0
     }
    },
    "colab_type": "code",
    "collapsed": true,
    "id": "JLpLa8Jt7Vu4"
   },
   "outputs": [],
   "source": [
    "# These are all the modules we'll be using later. Make sure you can import them\n",
    "# before proceeding further.\n",
    "from __future__ import print_function\n",
    "import numpy as np\n",
    "import tensorflow as tf\n",
    "from six.moves import cPickle as pickle\n",
    "from six.moves import range"
   ]
  },
  {
   "cell_type": "markdown",
   "metadata": {
    "colab_type": "text",
    "id": "1HrCK6e17WzV"
   },
   "source": [
    "First reload the data we generated in `1_notmnist.ipynb`."
   ]
  },
  {
   "cell_type": "code",
   "execution_count": 4,
   "metadata": {
    "cellView": "both",
    "colab": {
     "autoexec": {
      "startup": false,
      "wait_interval": 0
     },
     "output_extras": [
      {
       "item_id": 1
      }
     ]
    },
    "colab_type": "code",
    "collapsed": false,
    "executionInfo": {
     "elapsed": 19456,
     "status": "ok",
     "timestamp": 1449847956073,
     "user": {
      "color": "",
      "displayName": "",
      "isAnonymous": false,
      "isMe": true,
      "permissionId": "",
      "photoUrl": "",
      "sessionId": "0",
      "userId": ""
     },
     "user_tz": 480
    },
    "id": "y3-cj1bpmuxc",
    "outputId": "0ddb1607-1fc4-4ddb-de28-6c7ab7fb0c33"
   },
   "outputs": [
    {
     "name": "stdout",
     "output_type": "stream",
     "text": [
      "Training set (200000, 28, 28) (200000,)\n",
      "Validation set (10000, 28, 28) (10000,)\n",
      "Test set (10000, 28, 28) (10000,)\n"
     ]
    }
   ],
   "source": [
    "pickle_file = 'notMNIST.pickle'\n",
    "\n",
    "with open(pickle_file, 'rb') as f:\n",
    "  save = pickle.load(f)\n",
    "  train_dataset = save['train_dataset']\n",
    "  train_labels = save['train_labels']\n",
    "  valid_dataset = save['valid_dataset']\n",
    "  valid_labels = save['valid_labels']\n",
    "  test_dataset = save['test_dataset']\n",
    "  test_labels = save['test_labels']\n",
    "  del save  # hint to help gc free up memory\n",
    "  print('Training set', train_dataset.shape, train_labels.shape)\n",
    "  print('Validation set', valid_dataset.shape, valid_labels.shape)\n",
    "  print('Test set', test_dataset.shape, test_labels.shape)"
   ]
  },
  {
   "cell_type": "markdown",
   "metadata": {
    "colab_type": "text",
    "id": "L7aHrm6nGDMB"
   },
   "source": [
    "Reformat into a shape that's more adapted to the models we're going to train:\n",
    "- data as a flat matrix,\n",
    "- labels as float 1-hot encodings."
   ]
  },
  {
   "cell_type": "code",
   "execution_count": 5,
   "metadata": {
    "cellView": "both",
    "colab": {
     "autoexec": {
      "startup": false,
      "wait_interval": 0
     },
     "output_extras": [
      {
       "item_id": 1
      }
     ]
    },
    "colab_type": "code",
    "collapsed": false,
    "executionInfo": {
     "elapsed": 19723,
     "status": "ok",
     "timestamp": 1449847956364,
     "user": {
      "color": "",
      "displayName": "",
      "isAnonymous": false,
      "isMe": true,
      "permissionId": "",
      "photoUrl": "",
      "sessionId": "0",
      "userId": ""
     },
     "user_tz": 480
    },
    "id": "IRSyYiIIGIzS",
    "outputId": "2ba0fc75-1487-4ace-a562-cf81cae82793"
   },
   "outputs": [
    {
     "name": "stdout",
     "output_type": "stream",
     "text": [
      "old dataset shape: (200000, 28, 28)\n",
      "new dataset shape: (200000, 784)\n",
      "old labels shape: (200000,)\n",
      "new labels shape: (200000, 10)\n",
      "old dataset shape: (10000, 28, 28)\n",
      "new dataset shape: (10000, 784)\n",
      "old labels shape: (10000,)\n",
      "new labels shape: (10000, 10)\n",
      "old dataset shape: (10000, 28, 28)\n",
      "new dataset shape: (10000, 784)\n",
      "old labels shape: (10000,)\n",
      "new labels shape: (10000, 10)\n",
      "Training set (200000, 784) (200000, 10)\n",
      "Validation set (10000, 784) (10000, 10)\n",
      "Test set (10000, 784) (10000, 10)\n"
     ]
    }
   ],
   "source": [
    "image_size = 28\n",
    "num_labels = 10\n",
    "\n",
    "def reformat(dataset, labels):\n",
    "  print('old dataset shape:', dataset.shape)\n",
    "  dataset = dataset.reshape((-1, image_size * image_size)).astype(np.float32)\n",
    "  print('new dataset shape:', dataset.shape)\n",
    "  # Map 0 to [1.0, 0.0, 0.0 ...], 1 to [0.0, 1.0, 0.0 ...]\n",
    "  print('old labels shape:', labels.shape)\n",
    "  labels = (np.arange(num_labels) == labels[:,None]).astype(np.float32)\n",
    "  print('new labels shape:', labels.shape)\n",
    "  return dataset, labels\n",
    "train_dataset, train_labels = reformat(train_dataset, train_labels)\n",
    "valid_dataset, valid_labels = reformat(valid_dataset, valid_labels)\n",
    "test_dataset, test_labels = reformat(test_dataset, test_labels)\n",
    "print('Training set', train_dataset.shape, train_labels.shape)\n",
    "print('Validation set', valid_dataset.shape, valid_labels.shape)\n",
    "print('Test set', test_dataset.shape, test_labels.shape)"
   ]
  },
  {
   "cell_type": "markdown",
   "metadata": {
    "colab_type": "text",
    "id": "nCLVqyQ5vPPH"
   },
   "source": [
    "We're first going to train a multinomial logistic regression using simple gradient descent.\n",
    "\n",
    "TensorFlow works like this:\n",
    "* First you describe the computation that you want to see performed: what the inputs, the variables, and the operations look like. These get created as nodes over a computation graph. This description is all contained within the block below:\n",
    "\n",
    "      with graph.as_default():\n",
    "          ...\n",
    "\n",
    "* Then you can run the operations on this graph as many times as you want by calling `session.run()`, providing it outputs to fetch from the graph that get returned. This runtime operation is all contained in the block below:\n",
    "\n",
    "      with tf.Session(graph=graph) as session:\n",
    "          ...\n",
    "\n",
    "Let's load all the data into TensorFlow and build the computation graph corresponding to our training:"
   ]
  },
  {
   "cell_type": "code",
   "execution_count": 57,
   "metadata": {
    "collapsed": false
   },
   "outputs": [
    {
     "data": {
      "text/plain": [
       "(1000, 784)"
      ]
     },
     "execution_count": 57,
     "metadata": {},
     "output_type": "execute_result"
    }
   ],
   "source": [
    "train_dataset[:1000, :].shape"
   ]
  },
  {
   "cell_type": "code",
   "execution_count": 8,
   "metadata": {
    "collapsed": true
   },
   "outputs": [],
   "source": [
    "# With gradient descent training, even this much data is prohibitive.\n",
    "# Subset the training data for faster turnaround.\n",
    "train_subset = 10000"
   ]
  },
  {
   "cell_type": "code",
   "execution_count": 58,
   "metadata": {
    "cellView": "both",
    "colab": {
     "autoexec": {
      "startup": false,
      "wait_interval": 0
     }
    },
    "colab_type": "code",
    "collapsed": true,
    "id": "Nfv39qvtvOl_"
   },
   "outputs": [],
   "source": [
    "graph = tf.Graph()\n",
    "with graph.as_default():\n",
    "\n",
    "  # Input data.\n",
    "  # Load the training, validation and test data into constants that are\n",
    "  # attached to the graph.\n",
    "  tf_train_dataset = tf.constant(train_dataset[:train_subset, :])\n",
    "  tf_train_labels = tf.constant(train_labels[:train_subset])\n",
    "  tf_valid_dataset = tf.constant(valid_dataset)\n",
    "  tf_test_dataset = tf.constant(test_dataset)\n",
    "  \n",
    "  # Variables.\n",
    "  # These are the parameters that we are going to be training. The weight\n",
    "  # matrix will be initialized using random valued following a (truncated)\n",
    "  # normal distribution. The biases get initialized to zero.\n",
    "  weights = tf.Variable(\n",
    "    tf.truncated_normal([image_size * image_size, num_labels]))\n",
    "  biases = tf.Variable(tf.zeros([num_labels]))\n",
    "  \n",
    "  # Training computation.\n",
    "  # We multiply the inputs with the weight matrix, and add biases. We compute\n",
    "  # the softmax and cross-entropy (it's one operation in TensorFlow, because\n",
    "  # it's very common, and it can be optimized). We take the average of this\n",
    "  # cross-entropy across all training examples: that's our loss.\n",
    "  logits = tf.matmul(tf_train_dataset, weights) + biases\n",
    "  loss = tf.reduce_mean(\n",
    "    tf.nn.softmax_cross_entropy_with_logits(logits, tf_train_labels))\n",
    "  \n",
    "  # Optimizer.\n",
    "  # We are going to find the minimum of this loss using gradient descent.\n",
    "  optimizer = tf.train.GradientDescentOptimizer(0.5).minimize(loss)\n",
    "  \n",
    "  # Predictions for the training, validation, and test data.\n",
    "  # These are not part of training, but merely here so that we can report\n",
    "  # accuracy figures as we train.\n",
    "  train_prediction = tf.nn.softmax(logits)\n",
    "  valid_prediction = tf.nn.softmax(\n",
    "    tf.matmul(tf_valid_dataset, weights) + biases)\n",
    "  test_prediction = tf.nn.softmax(tf.matmul(tf_test_dataset, weights) + biases)"
   ]
  },
  {
   "cell_type": "markdown",
   "metadata": {
    "colab_type": "text",
    "id": "KQcL4uqISHjP"
   },
   "source": [
    "Let's run this computation and iterate:"
   ]
  },
  {
   "cell_type": "code",
   "execution_count": 59,
   "metadata": {
    "cellView": "both",
    "colab": {
     "autoexec": {
      "startup": false,
      "wait_interval": 0
     },
     "output_extras": [
      {
       "item_id": 9
      }
     ]
    },
    "colab_type": "code",
    "collapsed": false,
    "executionInfo": {
     "elapsed": 57454,
     "status": "ok",
     "timestamp": 1449847994134,
     "user": {
      "color": "",
      "displayName": "",
      "isAnonymous": false,
      "isMe": true,
      "permissionId": "",
      "photoUrl": "",
      "sessionId": "0",
      "userId": ""
     },
     "user_tz": 480
    },
    "id": "z2cjdenH869W",
    "outputId": "4c037ba1-b526-4d8e-e632-91e2a0333267",
    "scrolled": true
   },
   "outputs": [
    {
     "name": "stdout",
     "output_type": "stream",
     "text": [
      "Initialized\n",
      "Loss at step 0: 16.547537\n",
      "Training accuracy: 11.3%\n",
      "Validation accuracy: 11.8%\n",
      "Loss at step 100: 2.247135\n",
      "Training accuracy: 72.2%\n",
      "Validation accuracy: 71.1%\n",
      "Loss at step 200: 1.848740\n",
      "Training accuracy: 75.0%\n",
      "Validation accuracy: 73.2%\n",
      "Loss at step 300: 1.625857\n",
      "Training accuracy: 76.0%\n",
      "Validation accuracy: 73.8%\n",
      "Loss at step 400: 1.469987\n",
      "Training accuracy: 76.8%\n",
      "Validation accuracy: 74.3%\n",
      "Loss at step 500: 1.350899\n",
      "Training accuracy: 77.4%\n",
      "Validation accuracy: 74.4%\n",
      "Loss at step 600: 1.255717\n",
      "Training accuracy: 77.8%\n",
      "Validation accuracy: 74.6%\n",
      "Loss at step 700: 1.177489\n",
      "Training accuracy: 78.4%\n",
      "Validation accuracy: 74.7%\n",
      "Loss at step 800: 1.111838\n",
      "Training accuracy: 79.0%\n",
      "Validation accuracy: 74.8%\n",
      "Test accuracy: 82.4%\n",
      "CPU times: user 1min 53s, sys: 12.3 s, total: 2min 5s\n",
      "Wall time: 22.1 s\n"
     ]
    }
   ],
   "source": [
    "num_steps = 801\n",
    "\n",
    "def accuracy(predictions, labels):\n",
    "  return (100.0 * np.sum(np.argmax(predictions, 1) == np.argmax(labels, 1))\n",
    "          / predictions.shape[0])\n",
    "\n",
    "def run_gradient_computation():\n",
    "  with tf.Session(graph=graph) as session:\n",
    "    # This is a one-time operation which ensures the parameters get initialized as\n",
    "    # we described in the graph: random weights for the matrix, zeros for the\n",
    "    # biases. \n",
    "    tf.initialize_all_variables().run()\n",
    "    print('Initialized')\n",
    "    for step in range(num_steps):\n",
    "      # Run the computations. We tell .run() that we want to run the optimizer,\n",
    "      # and get the loss value and the training predictions returned as numpy\n",
    "      # arrays.\n",
    "      _, l, predictions = session.run([optimizer, loss, train_prediction])\n",
    "      if (step % 100 == 0):\n",
    "        print('Loss at step %d: %f' % (step, l))\n",
    "        print('Training accuracy: %.1f%%' % accuracy(\n",
    "          predictions, train_labels[:train_subset, :]))\n",
    "        # Calling .eval() on valid_prediction is basically like calling run(), but\n",
    "        # just to get that one numpy array. Note that it recomputes all its graph\n",
    "        # dependencies.\n",
    "        print('Validation accuracy: %.1f%%' % accuracy(\n",
    "          valid_prediction.eval(), valid_labels))\n",
    "    print('Test accuracy: %.1f%%' % accuracy(test_prediction.eval(), test_labels))\n",
    "    \n",
    "%time run_gradient_computation()"
   ]
  },
  {
   "cell_type": "markdown",
   "metadata": {},
   "source": [
    "Initial values from the original notebook:\n",
    "\n",
    "<pre>\n",
    "Initialized\n",
    "Loss at step 0 : 17.2939\n",
    "Training accuracy: 10.8%\n",
    "Validation accuracy: 13.8%\n",
    "Loss at step 100 : 2.26903\n",
    "Training accuracy: 72.3%\n",
    "Validation accuracy: 71.6%\n",
    "Loss at step 200 : 1.84895\n",
    "Training accuracy: 74.9%\n",
    "Validation accuracy: 73.9%\n",
    "Loss at step 300 : 1.60701\n",
    "Training accuracy: 76.0%\n",
    "Validation accuracy: 74.5%\n",
    "Loss at step 400 : 1.43912\n",
    "Training accuracy: 76.8%\n",
    "Validation accuracy: 74.8%\n",
    "Loss at step 500 : 1.31349\n",
    "Training accuracy: 77.5%\n",
    "Validation accuracy: 75.0%\n",
    "Loss at step 600 : 1.21501\n",
    "Training accuracy: 78.1%\n",
    "Validation accuracy: 75.4%\n",
    "Loss at step 700 : 1.13515\n",
    "Training accuracy: 78.6%\n",
    "Validation accuracy: 75.4%\n",
    "Loss at step 800 : 1.0687\n",
    "Training accuracy: 79.2%\n",
    "Validation accuracy: 75.6%\n",
    "Test accuracy: 82.9%\n",
    "</pre>"
   ]
  },
  {
   "cell_type": "markdown",
   "metadata": {
    "colab_type": "text",
    "id": "x68f-hxRGm3H"
   },
   "source": [
    "Let's now switch to stochastic gradient descent training instead, which is much faster.\n",
    "\n",
    "The graph will be similar, except that instead of holding all the training data into a constant node, we create a `Placeholder` node which will be fed actual data at every call of `session.run()`."
   ]
  },
  {
   "cell_type": "code",
   "execution_count": 60,
   "metadata": {
    "cellView": "both",
    "colab": {
     "autoexec": {
      "startup": false,
      "wait_interval": 0
     }
    },
    "colab_type": "code",
    "collapsed": true,
    "id": "qhPMzWYRGrzM"
   },
   "outputs": [],
   "source": [
    "batch_size = 128\n",
    "\n",
    "graph = tf.Graph()\n",
    "with graph.as_default():\n",
    "\n",
    "  # Input data. For the training data, we use a placeholder that will be fed\n",
    "  # at run time with a training minibatch.\n",
    "  tf_train_dataset = tf.placeholder(tf.float32,\n",
    "                                    shape=(batch_size, image_size * image_size))\n",
    "  tf_train_labels = tf.placeholder(tf.float32, shape=(batch_size, num_labels))\n",
    "  tf_valid_dataset = tf.constant(valid_dataset)\n",
    "  tf_test_dataset = tf.constant(test_dataset)\n",
    "  \n",
    "  # Variables.\n",
    "  weights = tf.Variable(\n",
    "    tf.truncated_normal([image_size * image_size, num_labels]))\n",
    "  biases = tf.Variable(tf.zeros([num_labels]))\n",
    "  \n",
    "  # Training computation.\n",
    "  logits = tf.matmul(tf_train_dataset, weights) + biases\n",
    "  loss = tf.reduce_mean(\n",
    "    tf.nn.softmax_cross_entropy_with_logits(logits, tf_train_labels))\n",
    "  \n",
    "  # Optimizer.\n",
    "  optimizer = tf.train.GradientDescentOptimizer(0.5).minimize(loss)\n",
    "  \n",
    "  # Predictions for the training, validation, and test data.\n",
    "  train_prediction = tf.nn.softmax(logits)\n",
    "  valid_prediction = tf.nn.softmax(\n",
    "    tf.matmul(tf_valid_dataset, weights) + biases)\n",
    "  test_prediction = tf.nn.softmax(tf.matmul(tf_test_dataset, weights) + biases)"
   ]
  },
  {
   "cell_type": "markdown",
   "metadata": {
    "colab_type": "text",
    "id": "XmVZESmtG4JH"
   },
   "source": [
    "Let's run it:"
   ]
  },
  {
   "cell_type": "code",
   "execution_count": 61,
   "metadata": {
    "cellView": "both",
    "colab": {
     "autoexec": {
      "startup": false,
      "wait_interval": 0
     },
     "output_extras": [
      {
       "item_id": 6
      }
     ]
    },
    "colab_type": "code",
    "collapsed": false,
    "executionInfo": {
     "elapsed": 66292,
     "status": "ok",
     "timestamp": 1449848003013,
     "user": {
      "color": "",
      "displayName": "",
      "isAnonymous": false,
      "isMe": true,
      "permissionId": "",
      "photoUrl": "",
      "sessionId": "0",
      "userId": ""
     },
     "user_tz": 480
    },
    "id": "FoF91pknG_YW",
    "outputId": "d255c80e-954d-4183-ca1c-c7333ce91d0a"
   },
   "outputs": [
    {
     "name": "stdout",
     "output_type": "stream",
     "text": [
      "Initialized\n",
      "Minibatch loss at step 0: 18.757153\n",
      "Minibatch accuracy: 6.2%\n",
      "Validation accuracy: 10.5%\n",
      "Minibatch loss at step 500: 1.822854\n",
      "Minibatch accuracy: 75.0%\n",
      "Validation accuracy: 75.3%\n",
      "Minibatch loss at step 1000: 1.698213\n",
      "Minibatch accuracy: 73.4%\n",
      "Validation accuracy: 76.9%\n",
      "Minibatch loss at step 1500: 1.259102\n",
      "Minibatch accuracy: 74.2%\n",
      "Validation accuracy: 76.9%\n",
      "Minibatch loss at step 2000: 0.858849\n",
      "Minibatch accuracy: 76.6%\n",
      "Validation accuracy: 77.6%\n",
      "Minibatch loss at step 2500: 1.020917\n",
      "Minibatch accuracy: 79.7%\n",
      "Validation accuracy: 78.2%\n",
      "Minibatch loss at step 3000: 1.189150\n",
      "Minibatch accuracy: 77.3%\n",
      "Validation accuracy: 78.3%\n",
      "Test accuracy: 85.7%\n",
      "CPU times: user 7.18 s, sys: 3.22 s, total: 10.4 s\n",
      "Wall time: 3.43 s\n"
     ]
    }
   ],
   "source": [
    "num_steps = 3001\n",
    "\n",
    "def run_sgd_computation():\n",
    "  with tf.Session(graph=graph) as session:\n",
    "    tf.initialize_all_variables().run()\n",
    "    print(\"Initialized\")\n",
    "    for step in range(num_steps):\n",
    "      # Pick an offset within the training data, which has been randomized.\n",
    "      # Note: we could use better randomization across epochs.\n",
    "      offset = (step * batch_size) % (train_labels.shape[0] - batch_size)\n",
    "      # Generate a minibatch.\n",
    "      batch_data = train_dataset[offset:(offset + batch_size), :]\n",
    "      batch_labels = train_labels[offset:(offset + batch_size), :]\n",
    "      # Prepare a dictionary telling the session where to feed the minibatch.\n",
    "      # The key of the dictionary is the placeholder node of the graph to be fed,\n",
    "      # and the value is the numpy array to feed to it.\n",
    "      feed_dict = {tf_train_dataset : batch_data, tf_train_labels : batch_labels}\n",
    "      _, l, predictions = session.run(\n",
    "        [optimizer, loss, train_prediction], feed_dict=feed_dict)\n",
    "      if (step % 500 == 0):\n",
    "        print(\"Minibatch loss at step %d: %f\" % (step, l))\n",
    "        print(\"Minibatch accuracy: %.1f%%\" % accuracy(predictions, batch_labels))\n",
    "        print(\"Validation accuracy: %.1f%%\" % accuracy(\n",
    "          valid_prediction.eval(), valid_labels))\n",
    "    print(\"Test accuracy: %.1f%%\" % accuracy(test_prediction.eval(), test_labels))\n",
    "    \n",
    "%time run_sgd_computation()"
   ]
  },
  {
   "cell_type": "markdown",
   "metadata": {
    "colab_type": "text",
    "id": "7omWxtvLLxik"
   },
   "source": [
    "---\n",
    "Problem\n",
    "-------\n",
    "\n",
    "Turn the logistic regression example with SGD into a 1-hidden layer neural network with rectified linear units [nn.relu()](https://www.tensorflow.org/versions/r0.7/api_docs/python/nn.html#relu) and 1024 hidden nodes. This model should improve your validation / test accuracy.\n",
    "\n",
    "---"
   ]
  },
  {
   "cell_type": "markdown",
   "metadata": {},
   "source": [
    "Logistic regression example without SGD: 1-hidden layer neural network with rectified linear units"
   ]
  },
  {
   "cell_type": "code",
   "execution_count": 11,
   "metadata": {
    "collapsed": false
   },
   "outputs": [],
   "source": [
    "def create_relu_graph(nb_hidden):\n",
    "    graph = tf.Graph()\n",
    "    with graph.as_default():\n",
    "        # Input data.\n",
    "        # Load the training, validation and test data into constants that are\n",
    "        # attached to the graph.\n",
    "        tf_train_dataset = tf.constant(train_dataset[:train_subset, :])\n",
    "        tf_train_labels = tf.constant(train_labels[:train_subset])\n",
    "        tf_valid_dataset = tf.constant(valid_dataset)\n",
    "        tf_test_dataset = tf.constant(test_dataset)\n",
    "  \n",
    "        # hidden layer\n",
    "        weights_1 = tf.Variable(\n",
    "            tf.truncated_normal([image_size * image_size, nb_hidden]))\n",
    "        biases_1 = tf.Variable(tf.zeros([nb_hidden]))\n",
    "        hidden = tf.nn.relu(tf.matmul(tf_train_dataset, weights_1) + biases_1)\n",
    "        \n",
    "        # output layer\n",
    "        weights_2 = tf.Variable(\n",
    "            tf.truncated_normal([nb_hidden, num_labels]))\n",
    "        biases_2 = tf.Variable(tf.zeros([num_labels]))\n",
    "        logits = tf.matmul(hidden, weights_2) + biases_2\n",
    "\n",
    "        # loss function\n",
    "        loss = tf.reduce_mean(\n",
    "            tf.nn.softmax_cross_entropy_with_logits(logits, tf_train_labels))\n",
    "  \n",
    "        # Optimizer.\n",
    "        # We are going to find the minimum of this loss using gradient descent.\n",
    "        optimizer = tf.train.GradientDescentOptimizer(0.5).minimize(loss)\n",
    "  \n",
    "        # Predictions for the training, validation, and test data.\n",
    "        # These are not part of training, but merely here so that we can report\n",
    "        # accuracy figures as we train.\n",
    "        def compute_prediction(dataset):\n",
    "            return tf.nn.softmax(tf.matmul(tf.nn.relu(tf.matmul(dataset, weights_1) + biases_1), weights_2) + biases_2)\n",
    "        \n",
    "        train_prediction = tf.nn.softmax(logits)\n",
    "        valid_prediction = compute_prediction(tf_valid_dataset)\n",
    "        test_prediction = compute_prediction(tf_test_dataset)\n",
    "\n",
    "        return (graph, optimizer, loss, { 'train': train_prediction, 'valid': valid_prediction, 'test': test_prediction})"
   ]
  },
  {
   "cell_type": "markdown",
   "metadata": {},
   "source": [
    "Compute accuracy for 10, 100, 500 and 1000 hidden nodes"
   ]
  },
  {
   "cell_type": "code",
   "execution_count": 12,
   "metadata": {
    "collapsed": false
   },
   "outputs": [
    {
     "name": "stdout",
     "output_type": "stream",
     "text": [
      "\n",
      "Initialized for 10 hidden relu\n",
      "Loss at step 0: 29.936613\n",
      "Training accuracy: 11.6%\n",
      "Validation accuracy: 23.2%\n",
      "Loss at step 100: 1.469934\n",
      "Training accuracy: 57.7%\n",
      "Validation accuracy: 57.6%\n",
      "Loss at step 200: 1.270297\n",
      "Training accuracy: 63.4%\n",
      "Validation accuracy: 62.3%\n",
      "Loss at step 300: 1.252973\n",
      "Training accuracy: 67.2%\n",
      "Validation accuracy: 68.4%\n",
      "Loss at step 400: 1.211750\n",
      "Training accuracy: 64.4%\n",
      "Validation accuracy: 59.4%\n",
      "Loss at step 500: 0.898835\n",
      "Training accuracy: 75.2%\n",
      "Validation accuracy: 73.3%\n",
      "Loss at step 600: 0.857774\n",
      "Training accuracy: 75.8%\n",
      "Validation accuracy: 74.0%\n",
      "Loss at step 700: 0.824533\n",
      "Training accuracy: 76.8%\n",
      "Validation accuracy: 74.5%\n",
      "Loss at step 800: 0.785283\n",
      "Training accuracy: 77.4%\n",
      "Validation accuracy: 75.2%\n",
      "Test accuracy: 83.2%\n",
      "CPU times: user 1min 53s, sys: 13.2 s, total: 2min 6s\n",
      "Wall time: 24.5 s\n",
      "\n",
      "Initialized for 100 hidden relu\n",
      "Loss at step 0: 82.670334\n",
      "Training accuracy: 14.9%\n",
      "Validation accuracy: 30.8%\n",
      "Loss at step 100: 2.942972\n",
      "Training accuracy: 76.8%\n",
      "Validation accuracy: 73.4%\n",
      "Loss at step 200: 1.809048\n",
      "Training accuracy: 76.8%\n",
      "Validation accuracy: 69.7%\n",
      "Loss at step 300: 1.177980\n",
      "Training accuracy: 79.0%\n",
      "Validation accuracy: 71.5%\n",
      "Loss at step 400: 1.024282\n",
      "Training accuracy: 80.1%\n",
      "Validation accuracy: 73.7%\n",
      "Loss at step 500: 0.814671\n",
      "Training accuracy: 82.8%\n",
      "Validation accuracy: 74.7%\n",
      "Loss at step 600: 0.879833\n",
      "Training accuracy: 82.9%\n",
      "Validation accuracy: 76.0%\n",
      "Loss at step 700: 0.573081\n",
      "Training accuracy: 84.8%\n",
      "Validation accuracy: 75.5%\n",
      "Loss at step 800: 0.523317\n",
      "Training accuracy: 86.1%\n",
      "Validation accuracy: 75.4%\n",
      "Test accuracy: 83.8%\n",
      "CPU times: user 5min 43s, sys: 17 s, total: 6min\n",
      "Wall time: 55.4 s\n",
      "\n",
      "Initialized for 500 hidden relu\n",
      "Loss at step 0: 265.414551\n",
      "Training accuracy: 9.0%\n",
      "Validation accuracy: 43.3%\n",
      "Loss at step 100: 3.774944\n",
      "Training accuracy: 88.5%\n",
      "Validation accuracy: 77.7%\n",
      "Loss at step 200: 0.674879\n",
      "Training accuracy: 93.4%\n",
      "Validation accuracy: 76.6%\n",
      "Loss at step 300: 0.071054\n",
      "Training accuracy: 99.2%\n",
      "Validation accuracy: 77.2%\n",
      "Loss at step 400: 0.035300\n",
      "Training accuracy: 99.3%\n",
      "Validation accuracy: 77.7%\n",
      "Loss at step 500: 0.019718\n",
      "Training accuracy: 99.7%\n",
      "Validation accuracy: 77.6%\n",
      "Loss at step 600: 0.023988\n",
      "Training accuracy: 99.7%\n",
      "Validation accuracy: 77.6%\n",
      "Loss at step 700: 0.033342\n",
      "Training accuracy: 99.7%\n",
      "Validation accuracy: 77.7%\n",
      "Loss at step 800: 0.009702\n",
      "Training accuracy: 99.7%\n",
      "Validation accuracy: 77.8%\n",
      "Test accuracy: 84.9%\n",
      "CPU times: user 46min 31s, sys: 38.7 s, total: 47min 9s\n",
      "Wall time: 7min 5s\n",
      "\n",
      "Initialized for 1000 hidden relu\n",
      "Loss at step 0: 365.506500\n",
      "Training accuracy: 6.7%\n",
      "Validation accuracy: 37.9%\n",
      "Loss at step 100: 2.992339\n",
      "Training accuracy: 92.1%\n",
      "Validation accuracy: 78.0%\n",
      "Loss at step 200: 0.121004\n",
      "Training accuracy: 99.3%\n",
      "Validation accuracy: 78.5%\n",
      "Loss at step 300: 0.125068\n",
      "Training accuracy: 99.4%\n",
      "Validation accuracy: 79.0%\n",
      "Loss at step 400: 0.041857\n",
      "Training accuracy: 99.7%\n",
      "Validation accuracy: 78.7%\n",
      "Loss at step 500: 0.021922\n",
      "Training accuracy: 99.8%\n",
      "Validation accuracy: 78.7%\n",
      "Loss at step 600: 0.012027\n",
      "Training accuracy: 99.8%\n",
      "Validation accuracy: 78.6%\n",
      "Loss at step 700: 0.024717\n",
      "Training accuracy: 99.8%\n",
      "Validation accuracy: 78.8%\n",
      "Loss at step 800: 0.028558\n",
      "Training accuracy: 99.7%\n",
      "Validation accuracy: 78.9%\n",
      "Test accuracy: 86.5%\n",
      "CPU times: user 1h 15min 20s, sys: 1min 9s, total: 1h 16min 30s\n",
      "Wall time: 11min 3s\n"
     ]
    }
   ],
   "source": [
    "num_steps = 801\n",
    "\n",
    "def accuracy(predictions, labels):\n",
    "    return (100.0 * np.sum(np.argmax(predictions, 1) == np.argmax(labels, 1))\n",
    "        / predictions.shape[0])\n",
    "\n",
    "def run_relu_computation(nb_hidden):\n",
    "    print('')\n",
    "    graph, optimizer, loss, preds = create_relu_graph(nb_hidden)\n",
    "    with tf.Session(graph=graph) as session:\n",
    "        # This is a one-time operation which ensures the parameters get initialized as\n",
    "        # we described in the graph: random weights for the matrix, zeros for the\n",
    "        # biases. \n",
    "        tf.initialize_all_variables().run()\n",
    "        print('Initialized for {0} hidden relu'.format(nb_hidden))\n",
    "        for step in range(num_steps):\n",
    "            # Run the computations. We tell .run() that we want to run the optimizer,\n",
    "            # and get the loss value and the training predictions returned as numpy\n",
    "            # arrays.\n",
    "            _, l, predictions = session.run([optimizer, loss, preds['train']])\n",
    "            if (step % 100 == 0):\n",
    "                print('Loss at step %d: %f' % (step, l))\n",
    "                print('Training accuracy: %.1f%%' % accuracy(\n",
    "                predictions, train_labels[:train_subset, :]))\n",
    "                # Calling .eval() on valid_prediction is basically like calling run(), but\n",
    "                # just to get that one numpy array. Note that it recomputes all its graph\n",
    "                # dependencies.\n",
    "                print('Validation accuracy: %.1f%%' % accuracy(\n",
    "                    preds['valid'].eval(), valid_labels))\n",
    "        print('Test accuracy: %.1f%%' % accuracy(\n",
    "            preds['test'].eval(), test_labels))\n",
    "    \n",
    "%time run_relu_computation(10)\n",
    "%time run_relu_computation(100)\n",
    "%time run_relu_computation(500)\n",
    "%time run_relu_computation(1000)"
   ]
  },
  {
   "cell_type": "markdown",
   "metadata": {},
   "source": [
    "Logistic regression example with SGD: 1-hidden layer neural network with rectified linear units"
   ]
  },
  {
   "cell_type": "code",
   "execution_count": 13,
   "metadata": {
    "collapsed": true
   },
   "outputs": [],
   "source": [
    "batch_size = 128\n",
    "\n",
    "def create_sgd_relu_graph(nb_hidden):\n",
    "    graph = tf.Graph()\n",
    "    with graph.as_default():\n",
    "        # Input data. For the training data, we use a placeholder that will be fed\n",
    "        # at run time with a training minibatch.\n",
    "        tf_train_dataset = tf.placeholder(tf.float32,\n",
    "                                    shape=(batch_size, image_size * image_size))\n",
    "        tf_train_labels = tf.placeholder(tf.float32, shape=(batch_size, num_labels))\n",
    "        tf_valid_dataset = tf.constant(valid_dataset)\n",
    "        tf_test_dataset = tf.constant(test_dataset)\n",
    "  \n",
    "        # hidden layer\n",
    "        weights_1 = tf.Variable(\n",
    "            tf.truncated_normal([image_size * image_size, nb_hidden]))\n",
    "        biases_1 = tf.Variable(tf.zeros([nb_hidden]))\n",
    "        hidden = tf.nn.relu(tf.matmul(tf_train_dataset, weights_1) + biases_1)\n",
    "        \n",
    "        # output layer\n",
    "        weights_2 = tf.Variable(\n",
    "            tf.truncated_normal([nb_hidden, num_labels]))\n",
    "        biases_2 = tf.Variable(tf.zeros([num_labels]))\n",
    "        logits = tf.matmul(hidden, weights_2) + biases_2\n",
    "\n",
    "        loss = tf.reduce_mean(\n",
    "            tf.nn.softmax_cross_entropy_with_logits(logits, tf_train_labels))\n",
    "  \n",
    "        # Optimizer.\n",
    "        # We are going to find the minimum of this loss using gradient descent.\n",
    "        optimizer = tf.train.GradientDescentOptimizer(0.5).minimize(loss)\n",
    "  \n",
    "        # Predictions for the training, validation, and test data.\n",
    "        # These are not part of training, but merely here so that we can report\n",
    "        # accuracy figures as we train.\n",
    "        def compute_prediction(dataset):\n",
    "            return tf.nn.softmax(tf.matmul(tf.nn.relu(tf.matmul(dataset, weights_1) + biases_1), weights_2) + biases_2)\n",
    "        \n",
    "        train_prediction = tf.nn.softmax(logits)\n",
    "        valid_prediction = compute_prediction(tf_valid_dataset)\n",
    "        test_prediction = compute_prediction(tf_test_dataset)\n",
    "        \n",
    "    return (graph, optimizer, loss,\n",
    "            { 'dataset': tf_train_dataset, 'labels': tf_train_labels },\n",
    "            { 'train': train_prediction, 'valid': valid_prediction, 'test': test_prediction })"
   ]
  },
  {
   "cell_type": "markdown",
   "metadata": {},
   "source": [
    "Compute accuracy for 10, 100, 500, 1000, 5000 and 10000 hidden nodes"
   ]
  },
  {
   "cell_type": "code",
   "execution_count": 16,
   "metadata": {
    "collapsed": false
   },
   "outputs": [
    {
     "name": "stdout",
     "output_type": "stream",
     "text": [
      "\n",
      "Initialized for 10 hidden relu\n",
      "Minibatch loss at step 0: 30.357452\n",
      "Minibatch accuracy: 6.2%\n",
      "Validation accuracy: 22.0%\n",
      "Minibatch loss at step 500: 1.397497\n",
      "Minibatch accuracy: 53.9%\n",
      "Validation accuracy: 58.4%\n",
      "Minibatch loss at step 1000: 0.933471\n",
      "Minibatch accuracy: 74.2%\n",
      "Validation accuracy: 73.0%\n",
      "Minibatch loss at step 1500: 1.113285\n",
      "Minibatch accuracy: 70.3%\n",
      "Validation accuracy: 72.7%\n",
      "Minibatch loss at step 2000: 0.666694\n",
      "Minibatch accuracy: 79.7%\n",
      "Validation accuracy: 77.4%\n",
      "Minibatch loss at step 2500: 0.674479\n",
      "Minibatch accuracy: 82.0%\n",
      "Validation accuracy: 78.0%\n",
      "Minibatch loss at step 3000: 0.896895\n",
      "Minibatch accuracy: 75.8%\n",
      "Validation accuracy: 78.8%\n",
      "Test accuracy: 86.0%\n",
      "CPU times: user 9.14 s, sys: 4.02 s, total: 13.2 s\n",
      "Wall time: 4.57 s\n",
      "\n",
      "Initialized for 100 hidden relu\n",
      "Minibatch loss at step 0: 82.070587\n",
      "Minibatch accuracy: 4.7%\n",
      "Validation accuracy: 26.4%\n",
      "Minibatch loss at step 500: 1.523089\n",
      "Minibatch accuracy: 71.9%\n",
      "Validation accuracy: 70.3%\n",
      "Minibatch loss at step 1000: 2.681705\n",
      "Minibatch accuracy: 71.9%\n",
      "Validation accuracy: 73.1%\n",
      "Minibatch loss at step 1500: 0.691079\n",
      "Minibatch accuracy: 81.2%\n",
      "Validation accuracy: 77.2%\n",
      "Minibatch loss at step 2000: 0.878289\n",
      "Minibatch accuracy: 78.9%\n",
      "Validation accuracy: 78.0%\n",
      "Minibatch loss at step 2500: 0.743155\n",
      "Minibatch accuracy: 82.0%\n",
      "Validation accuracy: 79.2%\n",
      "Minibatch loss at step 3000: 1.104142\n",
      "Minibatch accuracy: 73.4%\n",
      "Validation accuracy: 78.9%\n",
      "Test accuracy: 86.7%\n",
      "CPU times: user 21.3 s, sys: 4.25 s, total: 25.6 s\n",
      "Wall time: 6.76 s\n",
      "\n",
      "Initialized for 500 hidden relu\n",
      "Minibatch loss at step 0: 303.458771\n",
      "Minibatch accuracy: 8.6%\n",
      "Validation accuracy: 40.9%\n",
      "Minibatch loss at step 500: 6.979059\n",
      "Minibatch accuracy: 76.6%\n",
      "Validation accuracy: 77.6%\n",
      "Minibatch loss at step 1000: 7.530684\n",
      "Minibatch accuracy: 75.0%\n",
      "Validation accuracy: 77.0%\n",
      "Minibatch loss at step 1500: 2.601836\n",
      "Minibatch accuracy: 81.2%\n",
      "Validation accuracy: 78.6%\n",
      "Minibatch loss at step 2000: 3.242182\n",
      "Minibatch accuracy: 78.9%\n",
      "Validation accuracy: 78.9%\n",
      "Minibatch loss at step 2500: 1.876231\n",
      "Minibatch accuracy: 82.8%\n",
      "Validation accuracy: 80.2%\n",
      "Minibatch loss at step 3000: 2.585978\n",
      "Minibatch accuracy: 74.2%\n",
      "Validation accuracy: 80.7%\n",
      "Test accuracy: 88.1%\n",
      "CPU times: user 1min 26s, sys: 7.54 s, total: 1min 33s\n",
      "Wall time: 18.5 s\n",
      "\n",
      "Initialized for 1000 hidden relu\n",
      "Minibatch loss at step 0: 244.567017\n",
      "Minibatch accuracy: 11.7%\n",
      "Validation accuracy: 37.0%\n",
      "Minibatch loss at step 500: 15.353486\n",
      "Minibatch accuracy: 79.7%\n",
      "Validation accuracy: 78.6%\n",
      "Minibatch loss at step 1000: 19.592976\n",
      "Minibatch accuracy: 77.3%\n",
      "Validation accuracy: 80.8%\n",
      "Minibatch loss at step 1500: 5.363096\n",
      "Minibatch accuracy: 83.6%\n",
      "Validation accuracy: 81.0%\n",
      "Minibatch loss at step 2000: 5.061974\n",
      "Minibatch accuracy: 81.2%\n",
      "Validation accuracy: 81.0%\n",
      "Minibatch loss at step 2500: 3.162807\n",
      "Minibatch accuracy: 85.2%\n",
      "Validation accuracy: 81.7%\n",
      "Minibatch loss at step 3000: 7.358204\n",
      "Minibatch accuracy: 78.1%\n",
      "Validation accuracy: 81.2%\n",
      "Test accuracy: 88.4%\n",
      "CPU times: user 2min 55s, sys: 10.5 s, total: 3min 5s\n",
      "Wall time: 33.9 s\n",
      "\n",
      "Initialized for 5000 hidden relu\n",
      "Minibatch loss at step 0: 521.679321\n",
      "Minibatch accuracy: 11.7%\n",
      "Validation accuracy: 28.0%\n",
      "Minibatch loss at step 500: 63.927380\n",
      "Minibatch accuracy: 81.2%\n",
      "Validation accuracy: 79.0%\n",
      "Minibatch loss at step 1000: 114.893509\n",
      "Minibatch accuracy: 79.7%\n",
      "Validation accuracy: 81.3%\n",
      "Minibatch loss at step 1500: 12.383026\n",
      "Minibatch accuracy: 87.5%\n",
      "Validation accuracy: 83.7%\n",
      "Minibatch loss at step 2000: 20.644932\n",
      "Minibatch accuracy: 85.2%\n",
      "Validation accuracy: 84.2%\n",
      "Minibatch loss at step 2500: 15.171351\n",
      "Minibatch accuracy: 89.1%\n",
      "Validation accuracy: 83.3%\n",
      "Minibatch loss at step 3000: 21.625751\n",
      "Minibatch accuracy: 78.9%\n",
      "Validation accuracy: 84.0%\n",
      "Test accuracy: 90.7%\n",
      "CPU times: user 13min 19s, sys: 38.4 s, total: 13min 57s\n",
      "Wall time: 2min 17s\n",
      "\n",
      "Initialized for 10000 hidden relu\n",
      "Minibatch loss at step 0: 1295.470093\n",
      "Minibatch accuracy: 6.2%\n",
      "Validation accuracy: 34.0%\n",
      "Minibatch loss at step 500: 130.659271\n",
      "Minibatch accuracy: 82.0%\n",
      "Validation accuracy: 77.3%\n",
      "Minibatch loss at step 1000: 228.404999\n",
      "Minibatch accuracy: 83.6%\n",
      "Validation accuracy: 83.5%\n",
      "Minibatch loss at step 1500: 40.633503\n",
      "Minibatch accuracy: 89.1%\n",
      "Validation accuracy: 84.0%\n",
      "Minibatch loss at step 2000: 53.424767\n",
      "Minibatch accuracy: 85.2%\n",
      "Validation accuracy: 85.2%\n",
      "Minibatch loss at step 2500: 39.043861\n",
      "Minibatch accuracy: 89.8%\n",
      "Validation accuracy: 85.8%\n",
      "Minibatch loss at step 3000: 36.023338\n",
      "Minibatch accuracy: 86.7%\n",
      "Validation accuracy: 84.4%\n",
      "Test accuracy: 90.8%\n",
      "CPU times: user 26min 28s, sys: 1min 8s, total: 27min 36s\n",
      "Wall time: 4min 26s\n"
     ]
    }
   ],
   "source": [
    "num_steps = 6001\n",
    "\n",
    "def run_sgd_relu_computation(nb_hidden):\n",
    "    print('')\n",
    "    graph, optimizer, loss, feed, preds = create_sgd_relu_graph(nb_hidden)\n",
    "    with tf.Session(graph=graph) as session:\n",
    "        tf.initialize_all_variables().run()\n",
    "        print('Initialized for {0} hidden relu'.format(nb_hidden))\n",
    "        for step in range(num_steps):\n",
    "            # Pick an offset within the training data, which has been randomized.\n",
    "            # Note: we could use better randomization across epochs.\n",
    "            offset = (step * batch_size) % (train_labels.shape[0] - batch_size)\n",
    "            # Generate a minibatch.\n",
    "            batch_data = train_dataset[offset:(offset + batch_size), :]\n",
    "            batch_labels = train_labels[offset:(offset + batch_size), :]\n",
    "            # Prepare a dictionary telling the session where to feed the minibatch.\n",
    "            # The key of the dictionary is the placeholder node of the graph to be fed,\n",
    "            # and the value is the numpy array to feed to it.\n",
    "            feed_dict = {feed['dataset'] : batch_data, feed['labels'] : batch_labels}\n",
    "            _, l, predictions = session.run(\n",
    "                [optimizer, loss, preds['train']], feed_dict=feed_dict)\n",
    "            if (step % 500 == 0):\n",
    "                print(\"Minibatch loss at step %d: %f\" % (step, l))\n",
    "                print(\"Minibatch accuracy: %.1f%%\" % accuracy(predictions, batch_labels))\n",
    "                print(\"Validation accuracy: %.1f%%\" % accuracy(\n",
    "                    preds['valid'].eval(), valid_labels))\n",
    "        print(\"Test accuracy: %.1f%%\" % accuracy(preds['test'].eval(), test_labels))\n",
    "    \n",
    "%time run_sgd_relu_computation(10)\n",
    "%time run_sgd_relu_computation(100)\n",
    "%time run_sgd_relu_computation(500)\n",
    "%time run_sgd_relu_computation(1000)\n",
    "%time run_sgd_relu_computation(5000)\n",
    "%time run_sgd_relu_computation(10000)"
   ]
  },
  {
   "cell_type": "code",
   "execution_count": null,
   "metadata": {
    "collapsed": true
   },
   "outputs": [],
   "source": []
  }
 ],
 "metadata": {
  "colab": {
   "default_view": {},
   "name": "2_fullyconnected.ipynb",
   "provenance": [],
   "version": "0.3.2",
   "views": {}
  },
  "kernelspec": {
   "display_name": "Python 2",
   "language": "python",
   "name": "python2"
  },
  "language_info": {
   "codemirror_mode": {
    "name": "ipython",
    "version": 2
   },
   "file_extension": ".py",
   "mimetype": "text/x-python",
   "name": "python",
   "nbconvert_exporter": "python",
   "pygments_lexer": "ipython2",
   "version": "2.7.11+"
  }
 },
 "nbformat": 4,
 "nbformat_minor": 0
}
